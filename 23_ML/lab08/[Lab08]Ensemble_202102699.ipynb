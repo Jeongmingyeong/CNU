{
 "cells": [
  {
   "cell_type": "code",
   "execution_count": 26,
   "metadata": {
    "id": "WoF95UYU4eFm",
    "scrolled": true
   },
   "outputs": [
    {
     "name": "stdout",
     "output_type": "stream",
     "text": [
      "(20640, 8) (20640,)\n"
     ]
    }
   ],
   "source": [
    "# california 집값 데이터 사용\n",
    "from sklearn.datasets import fetch_california_housing\n",
    "\n",
    "housing = fetch_california_housing()\n",
    "\n",
    "X = housing.data\n",
    "y = housing.target\n",
    "\n",
    "print(X.shape, y.shape)"
   ]
  },
  {
   "cell_type": "markdown",
   "metadata": {},
   "source": [
    "### 여러 앙상블 기법으로 regression 진행"
   ]
  },
  {
   "cell_type": "code",
   "execution_count": 27,
   "metadata": {
    "id": "-Apyp5gZpdic"
   },
   "outputs": [
    {
     "name": "stdout",
     "output_type": "stream",
     "text": [
      "========= fold 0 =========\n",
      "accuracy: 0.7284408880302589\n",
      "r2 score: 0.5991950937908306\n",
      "LR : 0.3528455651786059\n",
      "DT : 0.5914820544213287\n",
      "kNN : 0.5519345519469465\n",
      "\n",
      "========= fold 1 =========\n",
      "accuracy: 0.7388960454680915\n",
      "r2 score: 0.6048908447942001\n",
      "LR : 0.3367389069106439\n",
      "DT : 0.611744152607385\n",
      "kNN : 0.5746162708622577\n",
      "\n",
      "========= fold 2 =========\n",
      "accuracy: 0.7341269585241172\n",
      "r2 score: 0.5982385322143579\n",
      "LR : 0.314803004834594\n",
      "DT : 0.6151927064039966\n",
      "kNN : 0.5509517179429739\n",
      "\n",
      "========= fold 3 =========\n",
      "accuracy: 0.7517311947917237\n",
      "r2 score: 0.6371260656324671\n",
      "LR : 0.3869781593572367\n",
      "DT : 0.622327091442426\n",
      "kNN : 0.5920311304343409\n",
      "\n",
      "========= fold 4 =========\n",
      "accuracy: 0.7455347459244566\n",
      "r2 score: 0.6227759388022472\n",
      "LR : 0.3513465726227005\n",
      "DT : 0.6287131221508351\n",
      "kNN : 0.566667703024986\n",
      "\n"
     ]
    }
   ],
   "source": [
    "# Voting\n",
    "# voting에 사용할 모델으로 linear regression, decision tree, k-neighbors regressor 사용\n",
    "from sklearn.model_selection import KFold\n",
    "from sklearn.preprocessing import StandardScaler\n",
    "from sklearn.linear_model import LinearRegression\n",
    "from sklearn.tree import DecisionTreeRegressor\n",
    "from sklearn.neighbors import KNeighborsRegressor\n",
    "from sklearn.ensemble import VotingRegressor\n",
    "from sklearn.metrics import r2_score\n",
    "\n",
    "fold = KFold(n_splits=5, shuffle=True)\n",
    "\n",
    "for i, (idx_train, idx_test) in enumerate(fold.split(X,y)):\n",
    "    x_train, y_train = X[idx_train], y[idx_train]\n",
    "    x_test, y_test = X[idx_test], y[idx_test]\n",
    "\n",
    "    scaler = StandardScaler()\n",
    "    x_train = scaler.fit_transform(x_train)\n",
    "    x_test = scaler.transform(x_test)\n",
    "\n",
    "    # model 들 각각 불러옴.\n",
    "    LR = LinearRegression()\n",
    "    DT = DecisionTreeRegressor()\n",
    "    kNN = KNeighborsRegressor(n_neighbors=5)\n",
    "\n",
    "    models = [('LR', LR), ('DT', DT), ('kNN', kNN)]\n",
    "    Regressor = VotingRegressor(models) # Voting regressor 공식문서를 보면 list 안에 model 의 tuple 로 받도록 되어있음.\n",
    "    Regressor.fit(x_train, y_train)\n",
    "    y_pred = Regressor.predict(x_test)\n",
    "    print(f\"========= fold {i} =========\")\n",
    "    print(\"accuracy:\", Regressor.score(x_test, y_test)) # [model].score() 함수를 사용하면 accuracy 계산 가능\n",
    "    print(\"r2 score:\", r2_score(y_pred, y_test))\n",
    "\n",
    "    for name, model in models:\n",
    "        model.fit(x_train, y_train)\n",
    "        y_pred = model.predict(x_test)\n",
    "        print(name, \":\", r2_score(y_pred, y_test))\n",
    "\n",
    "    print()"
   ]
  },
  {
   "cell_type": "code",
   "execution_count": 28,
   "metadata": {
    "id": "X_jhzm_f8Y_c"
   },
   "outputs": [
    {
     "name": "stdout",
     "output_type": "stream",
     "text": [
      "========= fold 0 =========\n",
      "r2 score: -1.4611150875451786\n",
      "\n",
      "========= fold 1 =========\n",
      "r2 score: -0.4720275600177055\n",
      "\n",
      "========= fold 2 =========\n",
      "r2 score: -0.6734678981490481\n",
      "\n",
      "========= fold 3 =========\n",
      "r2 score: -0.7534747451072303\n",
      "\n",
      "========= fold 4 =========\n",
      "r2 score: -1.3102766782953923\n",
      "\n"
     ]
    }
   ],
   "source": [
    "# AdaBoost\n",
    "from sklearn.ensemble import AdaBoostRegressor\n",
    "\n",
    "fold = KFold(n_splits=5, shuffle=True)\n",
    "\n",
    "for i, (idx_train, idx_test) in enumerate(fold.split(X,y)):\n",
    "    x_train, y_train = X[idx_train], y[idx_train]\n",
    "    x_test, y_test = X[idx_test], y[idx_test]\n",
    "\n",
    "    scaler = StandardScaler()\n",
    "    x_train = scaler.fit_transform(x_train)\n",
    "    x_test = scaler.transform(x_test)\n",
    "\n",
    "    AdaBoost = AdaBoostRegressor(n_estimators=50) # n_estimators : 훈련에서 사용할 model 개수\n",
    "    AdaBoost.fit(x_train, y_train)\n",
    "    y_pred = AdaBoost.predict(x_test)\n",
    "    print(f\"========= fold {i} =========\")\n",
    "    print(\"r2 score:\", r2_score(y_pred, y_test))\n",
    "    print()"
   ]
  },
  {
   "cell_type": "code",
   "execution_count": 29,
   "metadata": {
    "id": "EYsd3rWD9CRI"
   },
   "outputs": [
    {
     "name": "stdout",
     "output_type": "stream",
     "text": [
      "========= fold 0 =========\n",
      "r2 score: 0.7328238183417817\n",
      "\n",
      "========= fold 1 =========\n",
      "r2 score: 0.7120283673825718\n",
      "\n",
      "========= fold 2 =========\n",
      "r2 score: 0.6947183395328868\n",
      "\n",
      "========= fold 3 =========\n",
      "r2 score: 0.7350621777552143\n",
      "\n",
      "========= fold 4 =========\n",
      "r2 score: 0.7129894304649047\n",
      "\n"
     ]
    }
   ],
   "source": [
    "# GradientBoost\n",
    "from sklearn.ensemble import GradientBoostingRegressor\n",
    "\n",
    "fold = KFold(n_splits=5, shuffle=True)\n",
    "\n",
    "for i, (idx_train, idx_test) in enumerate(fold.split(X,y)):\n",
    "    x_train, y_train = X[idx_train], y[idx_train]\n",
    "    x_test, y_test = X[idx_test], y[idx_test]\n",
    "\n",
    "    scaler = StandardScaler()\n",
    "    x_train = scaler.fit_transform(x_train)\n",
    "    x_test = scaler.transform(x_test)\n",
    "\n",
    "    GradientBoost = GradientBoostingRegressor()\n",
    "    GradientBoost.fit(x_train, y_train)\n",
    "    y_pred = GradientBoost.predict(x_test)\n",
    "    print(f\"========= fold {i} =========\")\n",
    "    print(\"r2 score:\", r2_score(y_pred, y_test))\n",
    "    print()"
   ]
  },
  {
   "cell_type": "markdown",
   "metadata": {},
   "source": [
    "# 과제"
   ]
  },
  {
   "cell_type": "code",
   "execution_count": 30,
   "metadata": {
    "scrolled": true
   },
   "outputs": [
    {
     "data": {
      "text/html": [
       "<div>\n",
       "<style scoped>\n",
       "    .dataframe tbody tr th:only-of-type {\n",
       "        vertical-align: middle;\n",
       "    }\n",
       "\n",
       "    .dataframe tbody tr th {\n",
       "        vertical-align: top;\n",
       "    }\n",
       "\n",
       "    .dataframe thead th {\n",
       "        text-align: right;\n",
       "    }\n",
       "</style>\n",
       "<table border=\"1\" class=\"dataframe\">\n",
       "  <thead>\n",
       "    <tr style=\"text-align: right;\">\n",
       "      <th></th>\n",
       "      <th>gender</th>\n",
       "      <th>age</th>\n",
       "      <th>hypertension</th>\n",
       "      <th>heart_disease</th>\n",
       "      <th>smoking_history</th>\n",
       "      <th>bmi</th>\n",
       "      <th>HbA1c_level</th>\n",
       "      <th>blood_glucose_level</th>\n",
       "      <th>diabetes</th>\n",
       "    </tr>\n",
       "  </thead>\n",
       "  <tbody>\n",
       "    <tr>\n",
       "      <th>0</th>\n",
       "      <td>Female</td>\n",
       "      <td>80.0</td>\n",
       "      <td>0</td>\n",
       "      <td>1</td>\n",
       "      <td>never</td>\n",
       "      <td>25.19</td>\n",
       "      <td>6.6</td>\n",
       "      <td>140</td>\n",
       "      <td>0</td>\n",
       "    </tr>\n",
       "    <tr>\n",
       "      <th>1</th>\n",
       "      <td>Female</td>\n",
       "      <td>54.0</td>\n",
       "      <td>0</td>\n",
       "      <td>0</td>\n",
       "      <td>No Info</td>\n",
       "      <td>27.32</td>\n",
       "      <td>6.6</td>\n",
       "      <td>80</td>\n",
       "      <td>0</td>\n",
       "    </tr>\n",
       "    <tr>\n",
       "      <th>2</th>\n",
       "      <td>Male</td>\n",
       "      <td>28.0</td>\n",
       "      <td>0</td>\n",
       "      <td>0</td>\n",
       "      <td>never</td>\n",
       "      <td>27.32</td>\n",
       "      <td>5.7</td>\n",
       "      <td>158</td>\n",
       "      <td>0</td>\n",
       "    </tr>\n",
       "    <tr>\n",
       "      <th>3</th>\n",
       "      <td>Female</td>\n",
       "      <td>36.0</td>\n",
       "      <td>0</td>\n",
       "      <td>0</td>\n",
       "      <td>current</td>\n",
       "      <td>23.45</td>\n",
       "      <td>5.0</td>\n",
       "      <td>155</td>\n",
       "      <td>0</td>\n",
       "    </tr>\n",
       "    <tr>\n",
       "      <th>4</th>\n",
       "      <td>Male</td>\n",
       "      <td>76.0</td>\n",
       "      <td>1</td>\n",
       "      <td>1</td>\n",
       "      <td>current</td>\n",
       "      <td>20.14</td>\n",
       "      <td>4.8</td>\n",
       "      <td>155</td>\n",
       "      <td>0</td>\n",
       "    </tr>\n",
       "    <tr>\n",
       "      <th>5</th>\n",
       "      <td>Female</td>\n",
       "      <td>20.0</td>\n",
       "      <td>0</td>\n",
       "      <td>0</td>\n",
       "      <td>never</td>\n",
       "      <td>27.32</td>\n",
       "      <td>6.6</td>\n",
       "      <td>85</td>\n",
       "      <td>0</td>\n",
       "    </tr>\n",
       "    <tr>\n",
       "      <th>6</th>\n",
       "      <td>Female</td>\n",
       "      <td>44.0</td>\n",
       "      <td>0</td>\n",
       "      <td>0</td>\n",
       "      <td>never</td>\n",
       "      <td>19.31</td>\n",
       "      <td>6.5</td>\n",
       "      <td>200</td>\n",
       "      <td>1</td>\n",
       "    </tr>\n",
       "    <tr>\n",
       "      <th>7</th>\n",
       "      <td>Female</td>\n",
       "      <td>79.0</td>\n",
       "      <td>0</td>\n",
       "      <td>0</td>\n",
       "      <td>No Info</td>\n",
       "      <td>23.86</td>\n",
       "      <td>5.7</td>\n",
       "      <td>85</td>\n",
       "      <td>0</td>\n",
       "    </tr>\n",
       "    <tr>\n",
       "      <th>8</th>\n",
       "      <td>Male</td>\n",
       "      <td>42.0</td>\n",
       "      <td>0</td>\n",
       "      <td>0</td>\n",
       "      <td>never</td>\n",
       "      <td>33.64</td>\n",
       "      <td>4.8</td>\n",
       "      <td>145</td>\n",
       "      <td>0</td>\n",
       "    </tr>\n",
       "    <tr>\n",
       "      <th>9</th>\n",
       "      <td>Female</td>\n",
       "      <td>32.0</td>\n",
       "      <td>0</td>\n",
       "      <td>0</td>\n",
       "      <td>never</td>\n",
       "      <td>27.32</td>\n",
       "      <td>5.0</td>\n",
       "      <td>100</td>\n",
       "      <td>0</td>\n",
       "    </tr>\n",
       "  </tbody>\n",
       "</table>\n",
       "</div>"
      ],
      "text/plain": [
       "   gender   age  hypertension  heart_disease smoking_history    bmi  \\\n",
       "0  Female  80.0             0              1           never  25.19   \n",
       "1  Female  54.0             0              0         No Info  27.32   \n",
       "2    Male  28.0             0              0           never  27.32   \n",
       "3  Female  36.0             0              0         current  23.45   \n",
       "4    Male  76.0             1              1         current  20.14   \n",
       "5  Female  20.0             0              0           never  27.32   \n",
       "6  Female  44.0             0              0           never  19.31   \n",
       "7  Female  79.0             0              0         No Info  23.86   \n",
       "8    Male  42.0             0              0           never  33.64   \n",
       "9  Female  32.0             0              0           never  27.32   \n",
       "\n",
       "   HbA1c_level  blood_glucose_level  diabetes  \n",
       "0          6.6                  140         0  \n",
       "1          6.6                   80         0  \n",
       "2          5.7                  158         0  \n",
       "3          5.0                  155         0  \n",
       "4          4.8                  155         0  \n",
       "5          6.6                   85         0  \n",
       "6          6.5                  200         1  \n",
       "7          5.7                   85         0  \n",
       "8          4.8                  145         0  \n",
       "9          5.0                  100         0  "
      ]
     },
     "execution_count": 30,
     "metadata": {},
     "output_type": "execute_result"
    }
   ],
   "source": [
    "# 당뇨 예측 데이터 사용\n",
    "import pandas as pd\n",
    "\n",
    "data = pd.read_csv(\"./data/diabetes_prediction_dataset.csv\")\n",
    "data.head(10)"
   ]
  },
  {
   "cell_type": "markdown",
   "metadata": {},
   "source": [
    "### 여기서부터 과제"
   ]
  },
  {
   "cell_type": "markdown",
   "metadata": {},
   "source": [
    "### Ensemble 기법으로 classification 성능 측정"
   ]
  },
  {
   "cell_type": "code",
   "execution_count": 31,
   "metadata": {},
   "outputs": [],
   "source": [
    "# 숫자가 아닌 column이 존재하기 때문에 해당 column은 encoding 진행\n",
    "from sklearn.preprocessing import LabelEncoder\n",
    "\n",
    "encoder = LabelEncoder()\n",
    "# encoder를 사용해서 각 column에 대해 fit_transform() 적용\n",
    "data['gender'] = encoder.fit_transform(data['gender'])\n",
    "data['smoking_history'] = encoder.fit_transform(data['smoking_history'])"
   ]
  },
  {
   "cell_type": "code",
   "execution_count": 32,
   "metadata": {},
   "outputs": [],
   "source": [
    "# X와 y로 나누기\n",
    "X = data.iloc[:, :-1]\n",
    "y = data.iloc[:, -1]"
   ]
  },
  {
   "cell_type": "markdown",
   "metadata": {},
   "source": [
    "### 세가지 Ensemble 기법 사용\n",
    "### 각 기법에 대해 k-fold cross validation을 진행하고, StratifiedKFfold를 사용, k=5"
   ]
  },
  {
   "cell_type": "markdown",
   "metadata": {},
   "source": [
    "#### Voting"
   ]
  },
  {
   "cell_type": "code",
   "execution_count": 33,
   "metadata": {
    "scrolled": true
   },
   "outputs": [
    {
     "name": "stdout",
     "output_type": "stream",
     "text": [
      "========= fold 0 =========\n",
      "accuracy: 0.96495\n",
      "LR : 0.95995\n",
      "DT : 0.94975\n",
      "kNN : 0.9598\n",
      "\n",
      "========= fold 1 =========\n",
      "accuracy: 0.96455\n",
      "LR : 0.959\n",
      "DT : 0.95355\n",
      "kNN : 0.9603\n",
      "\n",
      "========= fold 2 =========\n",
      "accuracy: 0.96445\n",
      "LR : 0.95895\n",
      "DT : 0.9498\n",
      "kNN : 0.9617\n",
      "\n",
      "========= fold 3 =========\n",
      "accuracy: 0.96745\n",
      "LR : 0.96165\n",
      "DT : 0.95255\n",
      "kNN : 0.96265\n",
      "\n",
      "========= fold 4 =========\n",
      "accuracy: 0.9655\n",
      "LR : 0.9612\n",
      "DT : 0.9514\n",
      "kNN : 0.96145\n",
      "\n"
     ]
    }
   ],
   "source": [
    "# Voting\n",
    "# voting에는 logistic regression, decision tree, k-neighbors classifier 모델 사용\n",
    "# 성능 측정에는 accuracy를 사용\n",
    "# decision tree 사용시 max_depth는 5로 고정\n",
    "# knn 사용시 k값은 5로 고정\n",
    "from sklearn.model_selection import KFold\n",
    "from sklearn.preprocessing import StandardScaler\n",
    "from sklearn.linear_model import LogisticRegression\n",
    "from sklearn.tree import DecisionTreeClassifier\n",
    "from sklearn.neighbors import KNeighborsClassifier\n",
    "from sklearn.ensemble import VotingClassifier\n",
    "from sklearn.metrics import accuracy_score\n",
    "\n",
    "fold = KFold(n_splits=5, shuffle=True)\n",
    "\n",
    "for i, (idx_train, idx_test) in enumerate(fold.split(X,y)):\n",
    "    x_train, y_train = X.iloc[idx_train], y.iloc[idx_train]\n",
    "    x_test, y_test = X.iloc[idx_test], y.iloc[idx_test]\n",
    "\n",
    "    scaler = StandardScaler()\n",
    "    x_train = scaler.fit_transform(x_train)\n",
    "    x_test = scaler.transform(x_test)\n",
    "\n",
    "    # model 들 각각 불러옴.\n",
    "    LR = LogisticRegression()\n",
    "    DT = DecisionTreeClassifier()\n",
    "    kNN = KNeighborsClassifier(n_neighbors=5)\n",
    "\n",
    "    models = [('LR', LR), ('DT', DT), ('kNN', kNN)]\n",
    "    Classifier = VotingClassifier(models)\n",
    "    Classifier.fit(x_train, y_train)\n",
    "    y_pred = Regressor.predict(x_test)\n",
    "    print(f\"========= fold {i} =========\")\n",
    "    print(\"accuracy:\", Classifier.score(x_test, y_test)) # [model].score() 함수를 사용하면 accuracy 계산 가능\n",
    "\n",
    "    for name, model in models:\n",
    "        model.fit(x_train, y_train)\n",
    "        y_pred = model.predict(x_test)\n",
    "        print(name, \":\", model.score(x_test, y_test))\n",
    "\n",
    "    print()"
   ]
  },
  {
   "cell_type": "markdown",
   "metadata": {},
   "source": [
    "#### AdaBoost"
   ]
  },
  {
   "cell_type": "code",
   "execution_count": 34,
   "metadata": {},
   "outputs": [
    {
     "name": "stdout",
     "output_type": "stream",
     "text": [
      "========= fold 0 =========\n",
      "accuracy: 0.9713\n",
      "\n",
      "========= fold 1 =========\n",
      "accuracy: 0.97165\n",
      "\n",
      "========= fold 2 =========\n",
      "accuracy: 0.97255\n",
      "\n",
      "========= fold 3 =========\n",
      "accuracy: 0.97245\n",
      "\n",
      "========= fold 4 =========\n",
      "accuracy: 0.9714\n",
      "\n"
     ]
    }
   ],
   "source": [
    "# AdaBoost\n",
    "# 각 fold의 accuracy가 96 이상이 나오도록 parameter 조정\n",
    "from sklearn.ensemble import AdaBoostClassifier\n",
    "\n",
    "fold = KFold(n_splits=5, shuffle=True)\n",
    "\n",
    "for i, (idx_train, idx_test) in enumerate(fold.split(X,y)):\n",
    "    x_train, y_train = X.iloc[idx_train], y.iloc[idx_train]\n",
    "    x_test, y_test = X.iloc[idx_test], y.iloc[idx_test]\n",
    "\n",
    "    scaler = StandardScaler()\n",
    "    x_train = scaler.fit_transform(x_train)\n",
    "    x_test = scaler.transform(x_test)\n",
    "\n",
    "    AdaBoost = AdaBoostClassifier(n_estimators=50) # n_estimators : 훈련에서 사용할 model 개수\n",
    "    AdaBoost.fit(x_train, y_train)\n",
    "    y_pred = AdaBoost.predict(x_test)\n",
    "    print(f\"========= fold {i} =========\")\n",
    "    print(\"accuracy:\", AdaBoost.score(x_test, y_test))\n",
    "    print()\n"
   ]
  },
  {
   "cell_type": "markdown",
   "metadata": {},
   "source": [
    "#### GradientBoost"
   ]
  },
  {
   "cell_type": "code",
   "execution_count": 35,
   "metadata": {},
   "outputs": [
    {
     "name": "stdout",
     "output_type": "stream",
     "text": [
      "========= fold 0 =========\n",
      "accuracy: 0.97195\n",
      "\n",
      "========= fold 1 =========\n",
      "accuracy: 0.9705\n",
      "\n",
      "========= fold 2 =========\n",
      "accuracy: 0.97175\n",
      "\n",
      "========= fold 3 =========\n",
      "accuracy: 0.97265\n",
      "\n",
      "========= fold 4 =========\n",
      "accuracy: 0.97375\n",
      "\n"
     ]
    }
   ],
   "source": [
    "# GradientBoost\n",
    "# 각 fold의 accuracy가 96 이상이 나오도록 parameter 조정\n",
    "from sklearn.ensemble import GradientBoostingClassifier\n",
    "\n",
    "fold = KFold(n_splits=5, shuffle=True)\n",
    "\n",
    "for i, (idx_train, idx_test) in enumerate(fold.split(X,y)):\n",
    "    x_train, y_train = X.iloc[idx_train], y.iloc[idx_train]\n",
    "    x_test, y_test = X.iloc[idx_test], y.iloc[idx_test]\n",
    "\n",
    "    scaler = StandardScaler()\n",
    "    x_train = scaler.fit_transform(x_train)\n",
    "    x_test = scaler.transform(x_test)\n",
    "\n",
    "    GradientBoost = GradientBoostingClassifier()\n",
    "    GradientBoost.fit(x_train, y_train)\n",
    "    y_pred = GradientBoost.predict(x_test)\n",
    "    print(f\"========= fold {i} =========\")\n",
    "    print(\"accuracy:\", GradientBoost.score(x_test, y_test))\n",
    "    print()\n"
   ]
  }
 ],
 "metadata": {
  "colab": {
   "private_outputs": true,
   "provenance": []
  },
  "kernelspec": {
   "display_name": "Python 3 (ipykernel)",
   "language": "python",
   "name": "python3"
  },
  "language_info": {
   "codemirror_mode": {
    "name": "ipython",
    "version": 3
   },
   "file_extension": ".py",
   "mimetype": "text/x-python",
   "name": "python",
   "nbconvert_exporter": "python",
   "pygments_lexer": "ipython3",
   "version": "3.8.18"
  }
 },
 "nbformat": 4,
 "nbformat_minor": 4
}
