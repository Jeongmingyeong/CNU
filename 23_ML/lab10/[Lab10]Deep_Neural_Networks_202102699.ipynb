{
  "cells": [
    {
      "cell_type": "code",
      "execution_count": 2,
      "metadata": {
        "id": "WoF95UYU4eFm"
      },
      "outputs": [],
      "source": [
        "from sklearn.datasets import fetch_california_housing\n",
        "\n",
        "housing = fetch_california_housing()\n",
        "\n",
        "X = housing.data\n",
        "y = housing.target"
      ]
    },
    {
      "cell_type": "code",
      "execution_count": 3,
      "metadata": {
        "id": "Vt43dxFMMN0d",
        "colab": {
          "base_uri": "https://localhost:8080/"
        },
        "outputId": "59a29f95-b1a7-46e3-fbe5-882c519909af"
      },
      "outputs": [
        {
          "output_type": "execute_result",
          "data": {
            "text/plain": [
              "(20640, 8)"
            ]
          },
          "metadata": {},
          "execution_count": 3
        }
      ],
      "source": [
        "X.shape"
      ]
    },
    {
      "cell_type": "code",
      "execution_count": 9,
      "metadata": {
        "id": "2RN37w4AXhZ_",
        "colab": {
          "base_uri": "https://localhost:8080/"
        },
        "outputId": "459697cc-95ad-4ed5-e9cc-fc6a3fbbacba"
      },
      "outputs": [
        {
          "output_type": "stream",
          "name": "stdout",
          "text": [
            "Model: \"sequential_2\"\n",
            "_________________________________________________________________\n",
            " Layer (type)                Output Shape              Param #   \n",
            "=================================================================\n",
            " dense_6 (Dense)             (None, 4)                 36        \n",
            "                                                                 \n",
            " dense_7 (Dense)             (None, 2)                 10        \n",
            "                                                                 \n",
            " dense_8 (Dense)             (None, 1)                 3         \n",
            "                                                                 \n",
            "=================================================================\n",
            "Total params: 49 (196.00 Byte)\n",
            "Trainable params: 49 (196.00 Byte)\n",
            "Non-trainable params: 0 (0.00 Byte)\n",
            "_________________________________________________________________\n"
          ]
        }
      ],
      "source": [
        "from sklearn import model_selection\n",
        "from sklearn.preprocessing import StandardScaler\n",
        "from keras import layers, models\n",
        "\n",
        "# data split\n",
        "x_train, x_test, y_train, y_test = model_selection.train_test_split(X, y, test_size = 0.2)\n",
        "\n",
        "# data scaling\n",
        "scaler = StandardScaler()\n",
        "x_train = scaler.fit_transform(x_train)\n",
        "x_test = scaler.transform(x_test)\n",
        "\n",
        "input_shape = (x_train.shape[1], )\n",
        "\n",
        "# regression model 생성\n",
        "regr_model = models.Sequential()\n",
        "\n",
        "# unit : 하나의 layer 에 있는 퍼셉트론의 개수\n",
        "regr_model.add(layers.Dense(units = 4, activation = 'relu', input_shape = input_shape))\n",
        "regr_model.add(layers.Dense(units = 2, activation = 'relu')) # relu 는 음수는 0 양수는 1\n",
        "regr_model.add(layers.Dense(units = 1, activation = 'linear')) # linear 는 입력값 그대로\n",
        "\n",
        "regr_model.compile(loss='mean_squared_error')\n",
        "regr_model.summary()"
      ]
    },
    {
      "cell_type": "code",
      "source": [
        "input_shape"
      ],
      "metadata": {
        "colab": {
          "base_uri": "https://localhost:8080/"
        },
        "id": "zU6LUqH4_Ge6",
        "outputId": "f769120a-6ae6-4e73-f96d-97aedc9896d2"
      },
      "execution_count": 8,
      "outputs": [
        {
          "output_type": "execute_result",
          "data": {
            "text/plain": [
              "(8,)"
            ]
          },
          "metadata": {},
          "execution_count": 8
        }
      ]
    },
    {
      "cell_type": "code",
      "execution_count": 10,
      "metadata": {
        "id": "7ooSI4u6cnqe",
        "colab": {
          "base_uri": "https://localhost:8080/"
        },
        "outputId": "aa427dbe-d344-4340-d965-98d382b5a36a"
      },
      "outputs": [
        {
          "output_type": "stream",
          "name": "stdout",
          "text": [
            "Epoch 1/20\n",
            "516/516 [==============================] - 7s 4ms/step - loss: 2.3183 - val_loss: 0.9579\n",
            "Epoch 2/20\n",
            "516/516 [==============================] - 2s 3ms/step - loss: 0.7901 - val_loss: 0.5944\n",
            "Epoch 3/20\n",
            "516/516 [==============================] - 2s 3ms/step - loss: 0.5524 - val_loss: 0.4839\n",
            "Epoch 4/20\n",
            "516/516 [==============================] - 2s 3ms/step - loss: 0.4573 - val_loss: 0.4175\n",
            "Epoch 5/20\n",
            "516/516 [==============================] - 2s 4ms/step - loss: 0.4184 - val_loss: 0.3947\n",
            "Epoch 6/20\n",
            "516/516 [==============================] - 2s 4ms/step - loss: 0.4045 - val_loss: 0.3847\n",
            "Epoch 7/20\n",
            "516/516 [==============================] - 2s 3ms/step - loss: 0.3976 - val_loss: 0.3801\n",
            "Epoch 8/20\n",
            "516/516 [==============================] - 2s 3ms/step - loss: 0.3936 - val_loss: 0.3780\n",
            "Epoch 9/20\n",
            "516/516 [==============================] - 2s 3ms/step - loss: 0.3913 - val_loss: 0.3794\n",
            "Epoch 10/20\n",
            "516/516 [==============================] - 2s 3ms/step - loss: 0.3911 - val_loss: 0.3748\n",
            "Epoch 11/20\n",
            "516/516 [==============================] - 2s 3ms/step - loss: 0.3872 - val_loss: 0.3719\n",
            "Epoch 12/20\n",
            "516/516 [==============================] - 2s 3ms/step - loss: 0.3862 - val_loss: 0.3706\n",
            "Epoch 13/20\n",
            "516/516 [==============================] - 2s 4ms/step - loss: 0.3861 - val_loss: 0.3695\n",
            "Epoch 14/20\n",
            "516/516 [==============================] - 2s 4ms/step - loss: 0.3836 - val_loss: 0.3684\n",
            "Epoch 15/20\n",
            "516/516 [==============================] - 2s 3ms/step - loss: 0.3848 - val_loss: 0.3672\n",
            "Epoch 16/20\n",
            "516/516 [==============================] - 2s 3ms/step - loss: 0.3833 - val_loss: 0.3676\n",
            "Epoch 17/20\n",
            "516/516 [==============================] - 2s 3ms/step - loss: 0.3867 - val_loss: 0.3661\n",
            "Epoch 18/20\n",
            "516/516 [==============================] - 2s 4ms/step - loss: 0.3820 - val_loss: 0.3670\n",
            "Epoch 19/20\n",
            "516/516 [==============================] - 2s 3ms/step - loss: 0.3881 - val_loss: 0.3634\n",
            "Epoch 20/20\n",
            "516/516 [==============================] - 2s 3ms/step - loss: 0.3840 - val_loss: 0.3645\n"
          ]
        }
      ],
      "source": [
        "# 학습 과정을 history에 저장\n",
        "history = regr_model.fit(x_train, y_train, validation_data = [x_test, y_test], epochs = 20)"
      ]
    },
    {
      "cell_type": "code",
      "execution_count": 13,
      "metadata": {
        "id": "86f1UROJ0tUr",
        "colab": {
          "base_uri": "https://localhost:8080/"
        },
        "outputId": "e6837373-27cc-4ce5-c5c6-14b3b9c244d4"
      },
      "outputs": [
        {
          "output_type": "execute_result",
          "data": {
            "text/plain": [
              "{'loss': [2.318276882171631,\n",
              "  0.7900736927986145,\n",
              "  0.5523976683616638,\n",
              "  0.45729541778564453,\n",
              "  0.4183727502822876,\n",
              "  0.40450233221054077,\n",
              "  0.3976098299026489,\n",
              "  0.3935978412628174,\n",
              "  0.39132264256477356,\n",
              "  0.391085684299469,\n",
              "  0.38723576068878174,\n",
              "  0.38620513677597046,\n",
              "  0.38611623644828796,\n",
              "  0.38359758257865906,\n",
              "  0.3848268687725067,\n",
              "  0.38332399725914,\n",
              "  0.38670289516448975,\n",
              "  0.3819572925567627,\n",
              "  0.3881143033504486,\n",
              "  0.38398173451423645],\n",
              " 'val_loss': [0.9578682780265808,\n",
              "  0.5944023728370667,\n",
              "  0.4838527739048004,\n",
              "  0.4174908697605133,\n",
              "  0.3946603238582611,\n",
              "  0.38465455174446106,\n",
              "  0.38005331158638,\n",
              "  0.3780484199523926,\n",
              "  0.37936466932296753,\n",
              "  0.3747834861278534,\n",
              "  0.3719237148761749,\n",
              "  0.37056398391723633,\n",
              "  0.36948513984680176,\n",
              "  0.3684144616127014,\n",
              "  0.3672270178794861,\n",
              "  0.3676343262195587,\n",
              "  0.3660831153392792,\n",
              "  0.36699602007865906,\n",
              "  0.36338096857070923,\n",
              "  0.3645467758178711]}"
            ]
          },
          "metadata": {},
          "execution_count": 13
        }
      ],
      "source": [
        "history.history"
      ]
    },
    {
      "cell_type": "code",
      "execution_count": 14,
      "metadata": {
        "id": "AphcZD1V5qvo",
        "colab": {
          "base_uri": "https://localhost:8080/",
          "height": 386
        },
        "outputId": "6e62e149-d581-466b-97f1-c2c94d15cd7e"
      },
      "outputs": [
        {
          "output_type": "execute_result",
          "data": {
            "text/plain": [
              "<matplotlib.legend.Legend at 0x780048c267a0>"
            ]
          },
          "metadata": {},
          "execution_count": 14
        },
        {
          "output_type": "display_data",
          "data": {
            "text/plain": [
              "<Figure size 500x400 with 1 Axes>"
            ],
            "image/png": "[encoded data removed]"
          },
          "metadata": {}
        }
      ],
      "source": [
        "import matplotlib.pyplot as plt\n",
        "\n",
        "plt.figure(figsize=(5,4))\n",
        "\n",
        "plt.plot(history.history['loss'], c='b', label='loss')\n",
        "plt.plot(history.history['val_loss'], c='r', label='val_loss')\n",
        "plt.legend()"
      ]
    },
    {
      "cell_type": "code",
      "execution_count": 15,
      "metadata": {
        "id": "8Zii1GFjY7dN",
        "colab": {
          "base_uri": "https://localhost:8080/"
        },
        "outputId": "9211eb22-c945-484e-c056-81a5838ae9b2"
      },
      "outputs": [
        {
          "output_type": "stream",
          "name": "stdout",
          "text": [
            "(70000, 784) (70000,)\n"
          ]
        }
      ],
      "source": [
        "from sklearn.datasets import fetch_openml\n",
        "\n",
        "mnist = fetch_openml('mnist_784', parser='auto')\n",
        "\n",
        "X = mnist.data\n",
        "y = mnist.target\n",
        "\n",
        "print(X.shape, y.shape)"
      ]
    },
    {
      "cell_type": "code",
      "execution_count": 16,
      "metadata": {
        "id": "5rYan5VyZHV6",
        "colab": {
          "base_uri": "https://localhost:8080/"
        },
        "outputId": "51ac62e9-d21d-4f0c-c52e-b6723025469e"
      },
      "outputs": [
        {
          "output_type": "stream",
          "name": "stdout",
          "text": [
            "Model: \"sequential_3\"\n",
            "_________________________________________________________________\n",
            " Layer (type)                Output Shape              Param #   \n",
            "=================================================================\n",
            " dense_9 (Dense)             (None, 50)                39250     \n",
            "                                                                 \n",
            " dense_10 (Dense)            (None, 20)                1020      \n",
            "                                                                 \n",
            " dense_11 (Dense)            (None, 10)                210       \n",
            "                                                                 \n",
            "=================================================================\n",
            "Total params: 40480 (158.12 KB)\n",
            "Trainable params: 40480 (158.12 KB)\n",
            "Non-trainable params: 0 (0.00 Byte)\n",
            "_________________________________________________________________\n"
          ]
        }
      ],
      "source": [
        "from sklearn.preprocessing import LabelBinarizer\n",
        "\n",
        "x_train, x_test, y_train, y_test = model_selection.train_test_split(X, y, test_size = 0.2)\n",
        "\n",
        "scaler = StandardScaler()\n",
        "x_train = scaler.fit_transform(x_train)\n",
        "x_test = scaler.transform(x_test)\n",
        "\n",
        "encoder = LabelBinarizer()\n",
        "y_train = encoder.fit_transform(y_train)\n",
        "y_test = encoder.transform(y_test)\n",
        "\n",
        "input_shape = (x_train.shape[1], )\n",
        "\n",
        "# Sequential 안에 레이어를 나열하는 식으로 모델 생성\n",
        "clf_model = models.Sequential([\n",
        "    layers.Dense(units = 50, activation = 'relu', input_shape = input_shape),\n",
        "    layers.Dense(units = 20, activation = 'relu'),\n",
        "    layers.Dense(units = 10, activation = 'softmax')\n",
        "])\n",
        "\n",
        "# multinomial classification의 경우 categorical crossentropy loss 사용\n",
        "clf_model.compile(loss='categorical_crossentropy', metrics=['accuracy'])\n",
        "clf_model.summary()"
      ]
    },
    {
      "cell_type": "code",
      "execution_count": 17,
      "metadata": {
        "id": "VkZzh-Zjd6G3",
        "colab": {
          "base_uri": "https://localhost:8080/"
        },
        "outputId": "c64fb641-e615-40c9-f896-82354a0e1359"
      },
      "outputs": [
        {
          "output_type": "stream",
          "name": "stdout",
          "text": [
            "Epoch 1/20\n",
            "219/219 [==============================] - 2s 5ms/step - loss: 0.4940 - accuracy: 0.8616 - val_loss: 0.2441 - val_accuracy: 0.9369\n",
            "Epoch 2/20\n",
            "219/219 [==============================] - 1s 4ms/step - loss: 0.1765 - accuracy: 0.9494 - val_loss: 0.2028 - val_accuracy: 0.9511\n",
            "Epoch 3/20\n",
            "219/219 [==============================] - 1s 4ms/step - loss: 0.1307 - accuracy: 0.9616 - val_loss: 0.1800 - val_accuracy: 0.9584\n",
            "Epoch 4/20\n",
            "219/219 [==============================] - 1s 4ms/step - loss: 0.1040 - accuracy: 0.9695 - val_loss: 0.1742 - val_accuracy: 0.9614\n",
            "Epoch 5/20\n",
            "219/219 [==============================] - 1s 5ms/step - loss: 0.0861 - accuracy: 0.9740 - val_loss: 0.1703 - val_accuracy: 0.9636\n",
            "Epoch 6/20\n",
            "219/219 [==============================] - 2s 7ms/step - loss: 0.0729 - accuracy: 0.9783 - val_loss: 0.1708 - val_accuracy: 0.9641\n",
            "Epoch 7/20\n",
            "219/219 [==============================] - 1s 6ms/step - loss: 0.0625 - accuracy: 0.9810 - val_loss: 0.1677 - val_accuracy: 0.9648\n",
            "Epoch 8/20\n",
            "219/219 [==============================] - 1s 6ms/step - loss: 0.0542 - accuracy: 0.9838 - val_loss: 0.1672 - val_accuracy: 0.9659\n",
            "Epoch 9/20\n",
            "219/219 [==============================] - 1s 4ms/step - loss: 0.0471 - accuracy: 0.9859 - val_loss: 0.1676 - val_accuracy: 0.9654\n",
            "Epoch 10/20\n",
            "219/219 [==============================] - 1s 5ms/step - loss: 0.0403 - accuracy: 0.9881 - val_loss: 0.1715 - val_accuracy: 0.9659\n",
            "Epoch 11/20\n",
            "219/219 [==============================] - 1s 4ms/step - loss: 0.0361 - accuracy: 0.9899 - val_loss: 0.1779 - val_accuracy: 0.9664\n",
            "Epoch 12/20\n",
            "219/219 [==============================] - 1s 4ms/step - loss: 0.0312 - accuracy: 0.9912 - val_loss: 0.1828 - val_accuracy: 0.9659\n",
            "Epoch 13/20\n",
            "219/219 [==============================] - 1s 4ms/step - loss: 0.0272 - accuracy: 0.9924 - val_loss: 0.1804 - val_accuracy: 0.9661\n",
            "Epoch 14/20\n",
            "219/219 [==============================] - 1s 5ms/step - loss: 0.0232 - accuracy: 0.9935 - val_loss: 0.1906 - val_accuracy: 0.9675\n",
            "Epoch 15/20\n",
            "219/219 [==============================] - 1s 4ms/step - loss: 0.0205 - accuracy: 0.9941 - val_loss: 0.1933 - val_accuracy: 0.9678\n",
            "Epoch 16/20\n",
            "219/219 [==============================] - 1s 4ms/step - loss: 0.0175 - accuracy: 0.9953 - val_loss: 0.1976 - val_accuracy: 0.9681\n",
            "Epoch 17/20\n",
            "219/219 [==============================] - 1s 4ms/step - loss: 0.0152 - accuracy: 0.9962 - val_loss: 0.2086 - val_accuracy: 0.9671\n",
            "Epoch 18/20\n",
            "219/219 [==============================] - 1s 5ms/step - loss: 0.0128 - accuracy: 0.9967 - val_loss: 0.2144 - val_accuracy: 0.9668\n",
            "Epoch 19/20\n",
            "219/219 [==============================] - 1s 6ms/step - loss: 0.0113 - accuracy: 0.9969 - val_loss: 0.2174 - val_accuracy: 0.9679\n",
            "Epoch 20/20\n",
            "219/219 [==============================] - 1s 6ms/step - loss: 0.0090 - accuracy: 0.9980 - val_loss: 0.2309 - val_accuracy: 0.9666\n"
          ]
        }
      ],
      "source": [
        "history = clf_model.fit(x_train, y_train, validation_data=[x_test, y_test], batch_size=256, epochs=20)"
      ]
    },
    {
      "cell_type": "markdown",
      "metadata": {
        "id": "MNiIDVNtel7n"
      },
      "source": [
        "# 과제"
      ]
    },
    {
      "cell_type": "code",
      "execution_count": 18,
      "metadata": {
        "id": "6Es0fTxbke1L"
      },
      "outputs": [],
      "source": [
        "import numpy as np\n",
        "import matplotlib.pyplot as plt\n",
        "from keras.models import Sequential\n",
        "from keras.layers import Conv2D, MaxPooling2D, Flatten, Dense, Dropout\n",
        "from sklearn.preprocessing import LabelBinarizer"
      ]
    },
    {
      "cell_type": "code",
      "execution_count": 19,
      "metadata": {
        "id": "5qQeYNUBpdxH",
        "colab": {
          "base_uri": "https://localhost:8080/"
        },
        "outputId": "7b234288-c629-4941-e6bc-d3c5bdf4828c"
      },
      "outputs": [
        {
          "output_type": "stream",
          "name": "stdout",
          "text": [
            "(70000, 784) (70000,)\n"
          ]
        }
      ],
      "source": [
        "from sklearn.datasets import fetch_openml\n",
        "\n",
        "mnist = fetch_openml('mnist_784', parser='auto')\n",
        "\n",
        "X = mnist.data\n",
        "y = mnist.target\n",
        "\n",
        "print(X.shape, y.shape)"
      ]
    },
    {
      "cell_type": "code",
      "execution_count": 20,
      "metadata": {
        "id": "TsXVZpEaptOn"
      },
      "outputs": [],
      "source": [
        "# 각 픽셀값의 범위를 0~255에서 0~1로 정규화\n",
        "X /= 255.\n",
        "\n",
        "# 2d image의 형태로 reshape\n",
        "X = X.values.reshape(-1, 28, 28, 1) # (70000, 784) ==> (70000, 28, 28, 1)"
      ]
    },
    {
      "cell_type": "code",
      "execution_count": 21,
      "metadata": {
        "id": "5lcEDOzApduH"
      },
      "outputs": [],
      "source": [
        "def plot_images(images, labels):\n",
        "    plt.figure(figsize=(6, 6))\n",
        "    for i in range(9):\n",
        "        plt.subplot(3, 3, i + 1)\n",
        "        plt.xticks([])\n",
        "        plt.yticks([])\n",
        "        plt.grid(False)\n",
        "        plt.imshow(images[i], cmap='gray')\n",
        "        plt.xlabel(labels[i])\n",
        "    plt.show()"
      ]
    },
    {
      "cell_type": "code",
      "execution_count": 22,
      "metadata": {
        "id": "cPZl--xWpdrs",
        "colab": {
          "base_uri": "https://localhost:8080/",
          "height": 518
        },
        "outputId": "d521d267-a2e5-4bc8-b773-a28c982fad74"
      },
      "outputs": [
        {
          "output_type": "display_data",
          "data": {
            "text/plain": [
              "<Figure size 600x600 with 9 Axes>"
            ],
            "image/png": "[encoded data removed]"
          },
          "metadata": {}
        }
      ],
      "source": [
        "plot_images(X[:9], y[:9])"
      ]
    },
    {
      "cell_type": "code",
      "execution_count": 26,
      "metadata": {
        "id": "mVti-YNypdot",
        "colab": {
          "base_uri": "https://localhost:8080/"
        },
        "outputId": "7495b190-a39c-4d14-faa1-8d906abad50a"
      },
      "outputs": [
        {
          "output_type": "stream",
          "name": "stdout",
          "text": [
            "Model: \"sequential_7\"\n",
            "_________________________________________________________________\n",
            " Layer (type)                Output Shape              Param #   \n",
            "=================================================================\n",
            " conv2d_9 (Conv2D)           (None, 26, 26, 16)        160       \n",
            "                                                                 \n",
            " max_pooling2d_6 (MaxPoolin  (None, 13, 13, 16)        0         \n",
            " g2D)                                                            \n",
            "                                                                 \n",
            " conv2d_10 (Conv2D)          (None, 11, 11, 32)        4640      \n",
            "                                                                 \n",
            " max_pooling2d_7 (MaxPoolin  (None, 5, 5, 32)          0         \n",
            " g2D)                                                            \n",
            "                                                                 \n",
            " conv2d_11 (Conv2D)          (None, 3, 3, 64)          18496     \n",
            "                                                                 \n",
            " flatten_3 (Flatten)         (None, 576)               0         \n",
            "                                                                 \n",
            " dense_18 (Dense)            (None, 64)                36928     \n",
            "                                                                 \n",
            " dropout_2 (Dropout)         (None, 64)                0         \n",
            "                                                                 \n",
            " dense_19 (Dense)            (None, 10)                650       \n",
            "                                                                 \n",
            "=================================================================\n",
            "Total params: 60874 (237.79 KB)\n",
            "Trainable params: 60874 (237.79 KB)\n",
            "Non-trainable params: 0 (0.00 Byte)\n",
            "_________________________________________________________________\n"
          ]
        }
      ],
      "source": [
        "# X와 y를 train set, test set으로 split\n",
        "x_train, x_test, y_train, y_test = model_selection.train_test_split(X, y, test_size = 0.2)\n",
        "\n",
        "# LabelBinarizer를 사용하여 one-hot encoding 진행\n",
        "encoer = LabelBinarizer()\n",
        "y_train = encoder.fit_transform(y_train)\n",
        "y_test = encoder.fit_transform(y_test)\n",
        "\n",
        "# CNN 모델 생성 / # CNN layer 3개, fc layer 2개\n",
        "CNN_model = Sequential([\n",
        "    Conv2D(filters=16, kernel_size=(3, 3), activation='relu', input_shape=(28, 28, 1)),\n",
        "    MaxPooling2D(pool_size=(2, 2)),\n",
        "    Conv2D(filters=32, kernel_size=(3, 3), activation='relu'),\n",
        "    MaxPooling2D(pool_size=(2, 2)),\n",
        "    Conv2D(filters=64, kernel_size=(3, 3), activation='relu'),\n",
        "    Flatten(),\n",
        "    Dense(64, activation='relu'),\n",
        "    Dropout(0.5),\n",
        "    Dense(10, activation='softmax'),\n",
        "])\n",
        "\n",
        "\n",
        "# 모델 컴파일\n",
        "CNN_model.compile(optimizer='adam', loss='categorical_crossentropy', metrics=['accuracy'])\n",
        "CNN_model.summary()\n",
        "\n",
        "# output shape (None, filtersize, filtersize, ?)"
      ]
    },
    {
      "cell_type": "code",
      "execution_count": 27,
      "metadata": {
        "id": "BnWfvRGYpdlx",
        "colab": {
          "base_uri": "https://localhost:8080/"
        },
        "outputId": "5f9559bf-3146-441a-a5f7-b010feaa2191"
      },
      "outputs": [
        {
          "output_type": "stream",
          "name": "stdout",
          "text": [
            "Epoch 1/20\n",
            "219/219 [==============================] - 9s 9ms/step - loss: 0.6252 - accuracy: 0.8034 - val_loss: 0.1149 - val_accuracy: 0.9641\n",
            "Epoch 2/20\n",
            "219/219 [==============================] - 1s 6ms/step - loss: 0.1842 - accuracy: 0.9463 - val_loss: 0.0731 - val_accuracy: 0.9767\n",
            "Epoch 3/20\n",
            "219/219 [==============================] - 1s 7ms/step - loss: 0.1316 - accuracy: 0.9629 - val_loss: 0.0569 - val_accuracy: 0.9816\n",
            "Epoch 4/20\n",
            "219/219 [==============================] - 1s 6ms/step - loss: 0.1044 - accuracy: 0.9700 - val_loss: 0.0517 - val_accuracy: 0.9828\n",
            "Epoch 5/20\n",
            "219/219 [==============================] - 1s 7ms/step - loss: 0.0861 - accuracy: 0.9750 - val_loss: 0.0476 - val_accuracy: 0.9849\n",
            "Epoch 6/20\n",
            "219/219 [==============================] - 2s 8ms/step - loss: 0.0759 - accuracy: 0.9784 - val_loss: 0.0437 - val_accuracy: 0.9855\n",
            "Epoch 7/20\n",
            "219/219 [==============================] - 2s 8ms/step - loss: 0.0668 - accuracy: 0.9809 - val_loss: 0.0389 - val_accuracy: 0.9881\n",
            "Epoch 8/20\n",
            "219/219 [==============================] - 1s 6ms/step - loss: 0.0586 - accuracy: 0.9826 - val_loss: 0.0393 - val_accuracy: 0.9881\n",
            "Epoch 9/20\n",
            "219/219 [==============================] - 1s 6ms/step - loss: 0.0556 - accuracy: 0.9840 - val_loss: 0.0362 - val_accuracy: 0.9891\n",
            "Epoch 10/20\n",
            "219/219 [==============================] - 1s 6ms/step - loss: 0.0507 - accuracy: 0.9855 - val_loss: 0.0342 - val_accuracy: 0.9899\n",
            "Epoch 11/20\n",
            "219/219 [==============================] - 1s 6ms/step - loss: 0.0439 - accuracy: 0.9872 - val_loss: 0.0357 - val_accuracy: 0.9896\n",
            "Epoch 12/20\n",
            "219/219 [==============================] - 1s 6ms/step - loss: 0.0414 - accuracy: 0.9884 - val_loss: 0.0343 - val_accuracy: 0.9897\n",
            "Epoch 13/20\n",
            "219/219 [==============================] - 1s 7ms/step - loss: 0.0394 - accuracy: 0.9888 - val_loss: 0.0321 - val_accuracy: 0.9904\n",
            "Epoch 14/20\n",
            "219/219 [==============================] - 1s 6ms/step - loss: 0.0362 - accuracy: 0.9890 - val_loss: 0.0297 - val_accuracy: 0.9910\n",
            "Epoch 15/20\n",
            "219/219 [==============================] - 2s 8ms/step - loss: 0.0328 - accuracy: 0.9902 - val_loss: 0.0303 - val_accuracy: 0.9906\n",
            "Epoch 16/20\n",
            "219/219 [==============================] - 2s 8ms/step - loss: 0.0311 - accuracy: 0.9908 - val_loss: 0.0297 - val_accuracy: 0.9918\n",
            "Epoch 17/20\n",
            "219/219 [==============================] - 1s 7ms/step - loss: 0.0281 - accuracy: 0.9913 - val_loss: 0.0320 - val_accuracy: 0.9909\n",
            "Epoch 18/20\n",
            "219/219 [==============================] - 1s 6ms/step - loss: 0.0298 - accuracy: 0.9910 - val_loss: 0.0449 - val_accuracy: 0.9879\n",
            "Epoch 19/20\n",
            "219/219 [==============================] - 1s 6ms/step - loss: 0.0252 - accuracy: 0.9923 - val_loss: 0.0327 - val_accuracy: 0.9908\n",
            "Epoch 20/20\n",
            "219/219 [==============================] - 1s 7ms/step - loss: 0.0250 - accuracy: 0.9929 - val_loss: 0.0325 - val_accuracy: 0.9914\n"
          ]
        }
      ],
      "source": [
        "# 모델 학습\n",
        "history = CNN_model.fit(x_train, y_train, validation_data=[x_test, y_test], batch_size=256, epochs=20)"
      ]
    },
    {
      "cell_type": "code",
      "execution_count": 28,
      "metadata": {
        "id": "kkYWyIfaygSd",
        "colab": {
          "base_uri": "https://localhost:8080/"
        },
        "outputId": "1b46418c-6c29-4b3f-a1ec-effade63daba"
      },
      "outputs": [
        {
          "output_type": "execute_result",
          "data": {
            "text/plain": [
              "dict_keys(['loss', 'accuracy', 'val_loss', 'val_accuracy'])"
            ]
          },
          "metadata": {},
          "execution_count": 28
        }
      ],
      "source": [
        "history.history.keys()"
      ]
    },
    {
      "cell_type": "code",
      "execution_count": 29,
      "metadata": {
        "id": "r_i7SdYl-6vJ",
        "colab": {
          "base_uri": "https://localhost:8080/",
          "height": 388
        },
        "outputId": "96ac7504-9a5f-44d7-8f49-72e2e33b1b55"
      },
      "outputs": [
        {
          "output_type": "execute_result",
          "data": {
            "text/plain": [
              "<matplotlib.legend.Legend at 0x780033150f70>"
            ]
          },
          "metadata": {},
          "execution_count": 29
        },
        {
          "output_type": "display_data",
          "data": {
            "text/plain": [
              "<Figure size 1000x400 with 2 Axes>"
            ],
            "image/png": "[encoded data removed]"
          },
          "metadata": {}
        }
      ],
      "source": [
        "fig, ax = plt.subplots(1, 2, figsize=(10, 4))\n",
        "\n",
        "ax[0].plot(history.history['loss'], c='b', label='loss')\n",
        "ax[0].plot(history.history['val_loss'], c='r', label='val_loss')\n",
        "ax[0].legend()\n",
        "\n",
        "ax[1].plot(history.history['accuracy'], c='b', label='accuracy')\n",
        "ax[1].plot(history.history['val_accuracy'], c='r', label='val_accuracy')\n",
        "ax[1].legend()"
      ]
    },
    {
      "cell_type": "code",
      "execution_count": 31,
      "metadata": {
        "id": "GxqENF5epdir",
        "colab": {
          "base_uri": "https://localhost:8080/"
        },
        "outputId": "ebba4c34-0441-452f-81c8-b30111426f51"
      },
      "outputs": [
        {
          "output_type": "stream",
          "name": "stdout",
          "text": [
            "438/438 [==============================] - 1s 3ms/step - loss: 0.0325 - accuracy: 0.9914\n"
          ]
        },
        {
          "output_type": "execute_result",
          "data": {
            "text/plain": [
              "[0.03253328427672386, 0.991428554058075]"
            ]
          },
          "metadata": {},
          "execution_count": 31
        }
      ],
      "source": [
        "# 모델 검증 : output [loss, accuracy]\n",
        "CNN_model.evaluate(x_test, y_test)"
      ]
    }
  ],
  "metadata": {
    "accelerator": "GPU",
    "colab": {
      "gpuType": "T4",
      "provenance": []
    },
    "kernelspec": {
      "display_name": "Python 3",
      "name": "python3"
    },
    "language_info": {
      "name": "python"
    }
  },
  "nbformat": 4,
  "nbformat_minor": 0
}