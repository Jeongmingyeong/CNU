{
  "cells": [
    {
      "cell_type": "markdown",
      "id": "6af6b719",
      "metadata": {
        "id": "6af6b719"
      },
      "source": [
        "# PCA"
      ]
    },
    {
      "cell_type": "code",
      "execution_count": null,
      "id": "9b8d36a3",
      "metadata": {
        "id": "9b8d36a3"
      },
      "outputs": [],
      "source": [
        "import pandas as pd\n",
        "import numpy as np"
      ]
    },
    {
      "cell_type": "code",
      "execution_count": null,
      "id": "ac24be8f",
      "metadata": {
        "id": "ac24be8f"
      },
      "outputs": [],
      "source": [
        "df = pd.read_csv(\"/content/default of credit card clients.csv\")\n",
        "df.head()"
      ]
    },
    {
      "cell_type": "code",
      "execution_count": null,
      "id": "f8e9e906",
      "metadata": {
        "id": "f8e9e906"
      },
      "outputs": [],
      "source": [
        "df = pd.read_csv(\"/content/default of credit card clients.csv\", header=1).iloc[:,1:]\n",
        "print(df.shape)\n",
        "df.head()"
      ]
    },
    {
      "cell_type": "code",
      "execution_count": null,
      "id": "1af4bea1",
      "metadata": {
        "id": "1af4bea1"
      },
      "outputs": [],
      "source": [
        "X, y = df.iloc[:,:-1], df.iloc[:,-1]\n",
        "print(X.shape, y.shape, len(np.where(y==0)[0]), len(np.where(y==1)[0]))"
      ]
    },
    {
      "cell_type": "code",
      "execution_count": null,
      "id": "0de26ee7",
      "metadata": {
        "id": "0de26ee7"
      },
      "outputs": [],
      "source": [
        "from sklearn import model_selection\n",
        "from sklearn.preprocessing import StandardScaler\n",
        "\n",
        "x_train, x_test, y_train, y_test = model_selection.train_test_split(X, y, test_size=0.2, stratify=y)\n",
        "\n",
        "scaler = StandardScaler()\n",
        "x_train = scaler.fit_transform(x_train)\n",
        "x_test = scaler.transform(x_test)"
      ]
    },
    {
      "cell_type": "code",
      "execution_count": null,
      "id": "b5a9ad1b",
      "metadata": {
        "id": "b5a9ad1b"
      },
      "outputs": [],
      "source": [
        "from sklearn.decomposition import PCA\n",
        "\n",
        "pca = PCA(n_components=5)\n",
        "pca.fit(x_train)"
      ]
    },
    {
      "cell_type": "code",
      "execution_count": null,
      "id": "3ceb78cc",
      "metadata": {
        "id": "3ceb78cc"
      },
      "outputs": [],
      "source": [
        "pca.explained_variance_ratio_*100"
      ]
    },
    {
      "cell_type": "code",
      "execution_count": null,
      "id": "4e9ca195",
      "metadata": {
        "id": "4e9ca195"
      },
      "outputs": [],
      "source": [
        "x_test_transform = pca.transform(x_test)\n",
        "print(x_test_transform.shape)"
      ]
    },
    {
      "cell_type": "code",
      "execution_count": null,
      "id": "504b7b6d",
      "metadata": {
        "id": "504b7b6d"
      },
      "outputs": [],
      "source": [
        "import matplotlib.pyplot as plt\n",
        "\n",
        "fig, ax = plt.subplots(figsize=(7,7))\n",
        "view_dim = x_test_transform[:,:2]\n",
        "ax.scatter(*view_dim.transpose(), c=y_test)"
      ]
    },
    {
      "cell_type": "code",
      "execution_count": null,
      "id": "aec0962f",
      "metadata": {
        "id": "aec0962f"
      },
      "outputs": [],
      "source": [
        "fig, ax = plt.subplots(figsize=(7,7), subplot_kw={\"projection\":\"3d\"})\n",
        "view_dim = x_test_transform[:,:3]\n",
        "ax.scatter(*view_dim.transpose(), c=y_test)"
      ]
    },
    {
      "cell_type": "code",
      "execution_count": null,
      "id": "dc768064",
      "metadata": {
        "id": "dc768064"
      },
      "outputs": [],
      "source": [
        "from sklearn.ensemble import RandomForestClassifier\n",
        "from sklearn.model_selection import cross_val_score\n",
        "\n",
        "rf = RandomForestClassifier(n_estimators=200, random_state=1212)\n",
        "rf.fit(x_train, y_train)\n",
        "print(f\"Train accuracy: {rf.score(x_train, y_train):.4f}\")\n",
        "print(f\"Test accuracy: {rf.score(x_test, y_test):.4f}\")\n",
        "print(\"=\"*30)\n",
        "\n",
        "rf = RandomForestClassifier(n_estimators=200, random_state=1212)\n",
        "pca_train_x = pca.transform(x_train)\n",
        "pca_test_x = pca.transform(x_test)\n",
        "rf.fit(pca_train_x, y_train)\n",
        "print(f\"PCA train accuracy: {rf.score(pca_train_x, y_train):.4f}\")\n",
        "print(f\"PCA test accuracy: {rf.score(pca_test_x, y_test):.4f}\")"
      ]
    },
    {
      "cell_type": "markdown",
      "id": "b64a898c",
      "metadata": {
        "id": "b64a898c"
      },
      "source": [
        "# AE"
      ]
    },
    {
      "cell_type": "code",
      "execution_count": null,
      "id": "2a720859",
      "metadata": {
        "id": "2a720859"
      },
      "outputs": [],
      "source": [
        "import tensorflow as tf\n",
        "from keras import layers, models"
      ]
    },
    {
      "cell_type": "code",
      "execution_count": null,
      "id": "80cec4ce",
      "metadata": {
        "id": "80cec4ce"
      },
      "outputs": [],
      "source": [
        "def encoder(input_shape, latent_dim):\n",
        "    i = layers.Input(shape=input_shape)\n",
        "    h = layers.Dense((input_shape+latent_dim)//2)(i)\n",
        "    h = layers.BatchNormalization()(h)\n",
        "    h = layers.Activation('elu')(h)\n",
        "    h = layers.Dropout(.2)(h)\n",
        "\n",
        "    latent = layers.Dense(latent_dim)(h)\n",
        "\n",
        "    return models.Model(i, latent)"
      ]
    },
    {
      "cell_type": "code",
      "source": [
        "def decoder(input_shape, latent_dim):\n",
        "    latent = layers.Input(shape=latent_dim)\n",
        "    h = layers.Dense((input_shape+latent_dim)//2)(latent)\n",
        "    h = layers.BatchNormalization()(h)\n",
        "    h = layers.Activation('elu')(h)\n",
        "    h = layers.Dropout(.2)(h)\n",
        "\n",
        "    o = layers.Dense(input_shape)(h)\n",
        "\n",
        "    return models.Model(latent, o)"
      ],
      "metadata": {
        "id": "kWd4ZIV7vCei"
      },
      "id": "kWd4ZIV7vCei",
      "execution_count": null,
      "outputs": []
    },
    {
      "cell_type": "code",
      "source": [
        "input_shape = x_train.shape[1]\n",
        "\n",
        "enc = encoder(input_shape, 3)\n",
        "dec = decoder(input_shape, 3)"
      ],
      "metadata": {
        "id": "AMIRcG0vvOC5"
      },
      "id": "AMIRcG0vvOC5",
      "execution_count": null,
      "outputs": []
    },
    {
      "cell_type": "code",
      "source": [
        "input_layer = tf.keras.Input(input_shape)\n",
        "output_layer = dec(enc(input_layer))\n",
        "ae = models.Model(input_layer, output_layer)\n",
        "ae.compile(optimizer='adam', loss='mse')\n",
        "ae.summary()"
      ],
      "metadata": {
        "id": "yf2aswlLvVWf"
      },
      "id": "yf2aswlLvVWf",
      "execution_count": null,
      "outputs": []
    },
    {
      "cell_type": "code",
      "source": [
        "ae.fit(x_train, x_train,\n",
        "       epochs=10000,\n",
        "       batch_size=100,\n",
        "       callbacks=[tf.keras.callbacks.EarlyStopping(patience=20)],\n",
        "       validation_data=(x_test, x_test))"
      ],
      "metadata": {
        "id": "_kee8R8ivqxg"
      },
      "id": "_kee8R8ivqxg",
      "execution_count": null,
      "outputs": []
    },
    {
      "cell_type": "code",
      "source": [
        "latent_train = enc.predict(x_train)\n",
        "latent_test = enc.predict(x_test)"
      ],
      "metadata": {
        "id": "qbShBVNBwB-Q"
      },
      "id": "qbShBVNBwB-Q",
      "execution_count": null,
      "outputs": []
    },
    {
      "cell_type": "code",
      "source": [
        "latent_train.shape, latent_test.shape"
      ],
      "metadata": {
        "id": "EfcHgQbzwnlH"
      },
      "id": "EfcHgQbzwnlH",
      "execution_count": null,
      "outputs": []
    },
    {
      "cell_type": "code",
      "source": [
        "fig, ax = plt.subplots(figsize=(7,7))\n",
        "view_dim = latent_test[:,:2]\n",
        "ax.scatter(*view_dim.transpose(), c=y_test)"
      ],
      "metadata": {
        "id": "Dm7BVj-NwplG"
      },
      "id": "Dm7BVj-NwplG",
      "execution_count": null,
      "outputs": []
    },
    {
      "cell_type": "code",
      "source": [
        "fig, ax = plt.subplots(figsize=(7,7), subplot_kw={\"projection\":\"3d\"})\n",
        "ax.scatter(*latent_test.transpose(), c=y_test)"
      ],
      "metadata": {
        "id": "Y_V04qbrwtoG"
      },
      "id": "Y_V04qbrwtoG",
      "execution_count": null,
      "outputs": []
    },
    {
      "cell_type": "code",
      "source": [
        "rf = RandomForestClassifier(n_estimators=200)\n",
        "rf.fit(x_train, y_train)\n",
        "print(f\"Train accuracy: {rf.score(x_train, y_train):.4f}\")\n",
        "print(f\"Test accuracy: {rf.score(x_test, y_test):.4f}\")\n",
        "print(\"=\"*30)\n",
        "\n",
        "rf = RandomForestClassifier(n_estimators=200)\n",
        "rf.fit(latent_train, y_train)\n",
        "print(f\"AE train accuracy: {rf.score(latent_train, y_train):.4f}\")\n",
        "print(f\"AE test accuracy: {rf.score(latent_test, y_test):.4f}\")"
      ],
      "metadata": {
        "id": "1djrGl6hw1qp"
      },
      "id": "1djrGl6hw1qp",
      "execution_count": null,
      "outputs": []
    },
    {
      "cell_type": "code",
      "source": [
        "(x_train, y_train), (x_test, y_test) = tf.keras.datasets.mnist.load_data()"
      ],
      "metadata": {
        "id": "eNDOqJ74xidw"
      },
      "id": "eNDOqJ74xidw",
      "execution_count": null,
      "outputs": []
    },
    {
      "cell_type": "code",
      "source": [
        "print(x_train.shape, y_train.shape)\n",
        "print(x_test.shape, y_test.shape)"
      ],
      "metadata": {
        "id": "ntCFhUxJ_kWg"
      },
      "id": "ntCFhUxJ_kWg",
      "execution_count": null,
      "outputs": []
    },
    {
      "cell_type": "code",
      "source": [
        "x_train = x_train.reshape(-1, 28 * 28).astype(np.float32) / 255.0\n",
        "x_test = x_test.reshape(-1, 28 * 28).astype(np.float32) / 255.0"
      ],
      "metadata": {
        "id": "oJFL2xUv_ucM"
      },
      "id": "oJFL2xUv_ucM",
      "execution_count": null,
      "outputs": []
    },
    {
      "cell_type": "code",
      "source": [
        "input_shape = x_train.shape[1]\n",
        "\n",
        "enc = encoder(input_shape, 32)\n",
        "dec = decoder(input_shape, 32)"
      ],
      "metadata": {
        "id": "D1YWcHQK-aNU"
      },
      "id": "D1YWcHQK-aNU",
      "execution_count": null,
      "outputs": []
    },
    {
      "cell_type": "code",
      "source": [
        "input_layer = tf.keras.Input(input_shape)\n",
        "output_layer = dec(enc(input_layer))\n",
        "ae = models.Model(input_layer, output_layer)\n",
        "ae.compile(optimizer='adam', loss='mse')\n",
        "ae.summary()"
      ],
      "metadata": {
        "id": "SmuXkeCA-Qeb"
      },
      "id": "SmuXkeCA-Qeb",
      "execution_count": null,
      "outputs": []
    },
    {
      "cell_type": "code",
      "source": [
        "ae.fit(x_train, x_train,\n",
        "       epochs=20,\n",
        "       batch_size=100,\n",
        "       validation_data=(x_test, x_test))"
      ],
      "metadata": {
        "id": "YxMrualN-fqJ"
      },
      "id": "YxMrualN-fqJ",
      "execution_count": null,
      "outputs": []
    },
    {
      "cell_type": "code",
      "source": [
        "plt.figure(figsize=(20,4))\n",
        "for i in range(5):\n",
        "    ax = plt.subplot(2, 5, i+1)\n",
        "    plt.imshow(x_test[i].reshape(28,28))\n",
        "    plt.gray()\n",
        "    ax.get_xaxis().set_visible(False)\n",
        "    ax.get_yaxis().set_visible(False)\n",
        "    if i == 2:\n",
        "        ax.set_title('Original Images')\n",
        "\n",
        "    ax = plt.subplot(2, 5, i+6)\n",
        "    plt.imshow(ae.predict(x_test[i].reshape(-1,784)).reshape(28,28))\n",
        "    plt.gray()\n",
        "    ax.get_xaxis().set_visible(False)\n",
        "    ax.get_yaxis().set_visible(False)\n",
        "    if i == 2:\n",
        "        ax.set_title('Reconstructed Images')"
      ],
      "metadata": {
        "id": "cfOTjTl--j9b"
      },
      "id": "cfOTjTl--j9b",
      "execution_count": null,
      "outputs": []
    },
    {
      "cell_type": "code",
      "source": [],
      "metadata": {
        "id": "TTCwz_I5B_w1"
      },
      "id": "TTCwz_I5B_w1",
      "execution_count": null,
      "outputs": []
    }
  ],
  "metadata": {
    "kernelspec": {
      "display_name": "py38",
      "language": "python",
      "name": "py38"
    },
    "language_info": {
      "codemirror_mode": {
        "name": "ipython",
        "version": 3
      },
      "file_extension": ".py",
      "mimetype": "text/x-python",
      "name": "python",
      "nbconvert_exporter": "python",
      "pygments_lexer": "ipython3",
      "version": "3.8.17"
    },
    "colab": {
      "provenance": []
    }
  },
  "nbformat": 4,
  "nbformat_minor": 5
}