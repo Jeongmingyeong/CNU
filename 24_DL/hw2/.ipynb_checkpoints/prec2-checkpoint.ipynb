{
 "cells": [
  {
   "cell_type": "code",
   "execution_count": 2,
   "id": "7b2018c8",
   "metadata": {},
   "outputs": [],
   "source": [
    "# MNIST dataset 에 대한 분류문제\n",
    "# import package\n",
    "import torch\n",
    "import torch.nn as nn\n",
    "import torch.nn.functional as F\n",
    "from torch.utils.data import Dataset, DataLoader\n",
    "import torch.utils.data as data_utils\n",
    "\n",
    "# MNIST dataset 을 불러오기 위해 import\n",
    "import torchvision \n",
    "import torchvision.transforms as transforms\n",
    "\n",
    "import numpy as np\n",
    "import matplotlib.pyplot as plt\n",
    "import random"
   ]
  },
  {
   "cell_type": "code",
   "execution_count": 4,
   "id": "b82b2011",
   "metadata": {},
   "outputs": [
    {
     "name": "stdout",
     "output_type": "stream",
     "text": [
      "cpu\n"
     ]
    }
   ],
   "source": [
    "# GPU / CPU setting\n",
    "device = 'cuda' if torch.cuda.is_available() else 'cpu'\n",
    "print(device)\n",
    "\n",
    "random.seed(777)\n",
    "torch.manual_seed(777)\n",
    "if device == 'cuda':\n",
    "    torch.cuda.manual_seed_all(777)"
   ]
  },
  {
   "cell_type": "code",
   "execution_count": 6,
   "id": "eb013bc1",
   "metadata": {},
   "outputs": [],
   "source": [
    "# tensor형으로 data 불러옴.\n",
    "# 처음 불러오는거면 download 함.\n",
    "\n",
    "train_dataset = torchvision.datasets.MNIST(root='./data', train=True, transform = transforms.ToTensor(), download=True)\n",
    "test_dataset = torchvision.datasets.MNIST(root='./data', train=False, transform = transforms.ToTensor(), download=True)"
   ]
  },
  {
   "cell_type": "code",
   "execution_count": 7,
   "id": "8f63d361",
   "metadata": {},
   "outputs": [],
   "source": [
    "# batch generation\n",
    "batch_size = 100\n",
    "\n",
    "train_loader = DataLoader(dataset = train_dataset, batch_size = batch_size, shuffle=True)\n",
    "test_loader = DataLoader(dataset = test_dataset, batch_size = batch_size, shuffle=False)"
   ]
  },
  {
   "cell_type": "code",
   "execution_count": 9,
   "id": "c992b89c",
   "metadata": {},
   "outputs": [
    {
     "name": "stdout",
     "output_type": "stream",
     "text": [
      "torch.Size([100])\n",
      "torch.Size([100, 1, 28, 28])\n",
      "torch.Size([1, 28, 28])\n",
      "tensor(1)\n"
     ]
    },
    {
     "data": {
      "image/png": "[encoded data removed]",
      "text/plain": [
       "<Figure size 640x480 with 1 Axes>"
      ]
     },
     "metadata": {},
     "output_type": "display_data"
    }
   ],
   "source": [
    "for i, data in enumerate(train_loader):\n",
    "    x, y = data\n",
    "    print(y.shape) # batch size = 100개의 data가 들어가 있음.\n",
    "    print(x.shape) # batch size, channel(gray==1), 가로 세로 사이즈\n",
    "    print(x[0].shape)\n",
    "    print(y[0])\n",
    "    plt.imshow(x[0][0].reshape(28, 28), cmap='gray')\n",
    "    break"
   ]
  },
  {
   "cell_type": "code",
   "execution_count": 12,
   "id": "935c567d",
   "metadata": {},
   "outputs": [],
   "source": [
    "# model generate\n",
    "class MLP_model(torch.nn.Module):\n",
    "    def __init__(self, input_size, num_classes):\n",
    "        super(MLP_model, self).__init__()\n",
    "        self.input_size = input_size\n",
    "        self.num_classes = num_classes\n",
    "        \n",
    "        # linear layer 정의 (fc : fully-connected)\n",
    "        self.fc1 = torch.nn.Linear(input_size, 256)\n",
    "        self.fc2 = torch.nn.Linear(256, 256)\n",
    "        self.fc3 = torch.nn.Linear(256, num_classes)\n",
    "        \n",
    "        # activation function 정의 (불러올 수 있는 함수이므로 따로 정의하지 않아도 됨.)\n",
    "        self.relu = torch.nn.ReLU()\n",
    "        \n",
    "    def forward(self, x):\n",
    "        fc1 = self.fc1(x)\n",
    "        ac1 = self.relu(fc1)\n",
    "        \n",
    "        fc2 = self.fc2(ac1)\n",
    "        ac2 = self.relu(fc2)\n",
    "        \n",
    "        output = self.fc3(ac2)\n",
    "        \n",
    "        return output\n",
    "        "
   ]
  },
  {
   "cell_type": "code",
   "execution_count": 13,
   "id": "fe9e40f1",
   "metadata": {},
   "outputs": [],
   "source": [
    "# parameter definition\n",
    "input_size = 784  # 28 * 28\n",
    "num_classes = 10\n",
    "num_epochs = 5\n",
    "learning_rate = 0.1"
   ]
  },
  {
   "cell_type": "code",
   "execution_count": 14,
   "id": "de035da7",
   "metadata": {},
   "outputs": [],
   "source": [
    "# model definition\n",
    "model = MLP_model(input_size, num_classes).to(device) # model을 device에 올려주겠다.\n",
    "criterion = nn.CrossEntropyLoss()\n",
    "optimizer = torch.optim.SGD(model.parameters(), lr=learning_rate)"
   ]
  },
  {
   "cell_type": "code",
   "execution_count": 18,
   "id": "93e314cf",
   "metadata": {},
   "outputs": [
    {
     "name": "stdout",
     "output_type": "stream",
     "text": [
      "Epoch 1 Loss 0.02588\n",
      "Epoch 2 Loss 0.02280\n",
      "Epoch 3 Loss 0.01892\n",
      "Epoch 4 Loss 0.01698\n",
      "Epoch 5 Loss 0.01489\n"
     ]
    }
   ],
   "source": [
    "# model train\n",
    "loss_list = [] # loss를 출력하기 위함.\n",
    "for epoch_num in range(num_epochs):\n",
    "    average_cost = 0 # batch마다의 cost를 더해서 평균을 내줌.\n",
    "    \n",
    "    for batch_idx, (x_data, y_label) in enumerate(train_loader):\n",
    "        num_of_mini_batch = len(train_loader)\n",
    "        x_data = x_data.reshape(-1, 28*28) # [100, 1, 28, 28] -> [100, 784]\n",
    "        input_image = x_data.to(device)\n",
    "        label = y_label.to(device)\n",
    "        optimizer.zero_grad()\n",
    "        y_predict = model(input_image)\n",
    "        loss=criterion(y_predict, label)\n",
    "        loss.backward()\n",
    "        optimizer.step()\n",
    "        \n",
    "        average_cost = average_cost + (loss.item()/num_of_mini_batch)\n",
    "        loss_list.append(loss)\n",
    "        \n",
    "    print(\"Epoch {} Loss {:.5f}\".format((epoch_num+1), average_cost))"
   ]
  },
  {
   "cell_type": "code",
   "execution_count": 21,
   "id": "53d10fad",
   "metadata": {},
   "outputs": [
    {
     "name": "stdout",
     "output_type": "stream",
     "text": [
      "Model accuracy 98.11000%\n"
     ]
    }
   ],
   "source": [
    "# validation\n",
    "with torch.no_grad(): # validation용이니까 gradient를 계산하지 말아라 -> 연산부담 줄여줌.\n",
    "    num_total_data = 0\n",
    "    correct = 0\n",
    "    for batch_idx, (images, labels) in enumerate(test_loader):\n",
    "        images = images.reshape(-1, 28*28)\n",
    "        images = images.to(device)\n",
    "        labels = labels.to(device)\n",
    "        outputs = model(images)\n",
    "        \n",
    "        # softmax function을 통과시켜서 결과 Get\n",
    "        outputs_softmax = F.softmax(outputs, dim=1)\n",
    "        predicted = torch.argmax(outputs_softmax, dim=1)\n",
    "        \n",
    "        num_total_data += len(images)\n",
    "        answer = sum(labels==predicted).item()\n",
    "        correct += answer\n",
    "        \n",
    "print(\"Model accuracy {:.5f}%\".format((correct/num_total_data)*100))"
   ]
  },
  {
   "cell_type": "markdown",
   "id": "13c0d67a",
   "metadata": {},
   "source": [
    "## practice2 . DIGIT recognition with sequential API (model 정의만 다름)"
   ]
  },
  {
   "cell_type": "code",
   "execution_count": 22,
   "id": "ad4d64ce",
   "metadata": {},
   "outputs": [],
   "source": [
    "# 위와는 다른 방법의 model 정의\n",
    "linear1 = nn.Linear(784, 256)\n",
    "linear2 = nn.Linear(256, 64)\n",
    "linear3 = nn.Linear(64, 10)\n",
    "relu = torch.nn.ReLU()\n",
    "\n",
    "model = torch.nn.Sequential(linear1, relu, linear2, relu, linear3)\n",
    "model = model.to(device)"
   ]
  },
  {
   "cell_type": "code",
   "execution_count": 24,
   "id": "2ef02af0",
   "metadata": {},
   "outputs": [],
   "source": [
    "# 파라미터, 손실함수, optimizer 정의\n",
    "epoch = 5\n",
    "learning_rate = 0.1\n",
    "criterion = nn.CrossEntropyLoss()\n",
    "optimizer = torch.optim.SGD(model.parameters(), lr=learning_rate)"
   ]
  },
  {
   "cell_type": "code",
   "execution_count": 25,
   "id": "79888c59",
   "metadata": {},
   "outputs": [
    {
     "name": "stdout",
     "output_type": "stream",
     "text": [
      "Epoch 1 Loss 0.59381\n",
      "Epoch 2 Loss 0.23500\n",
      "Epoch 3 Loss 0.16660\n",
      "Epoch 4 Loss 0.12818\n",
      "Epoch 5 Loss 0.10252\n"
     ]
    }
   ],
   "source": [
    "# model train\n",
    "loss_list = [] # loss를 출력하기 위함.\n",
    "for epoch_num in range(num_epochs):\n",
    "    average_cost = 0 # batch마다의 cost를 더해서 평균을 내줌.\n",
    "    \n",
    "    for batch_idx, (x_data, y_label) in enumerate(train_loader):\n",
    "        num_of_mini_batch = len(train_loader)\n",
    "        x_data = x_data.reshape(-1, 28*28) # [100, 1, 28, 28] -> [100, 784]\n",
    "        input_image = x_data.to(device)\n",
    "        label = y_label.to(device)\n",
    "        optimizer.zero_grad()\n",
    "        y_predict = model(input_image)\n",
    "        loss=criterion(y_predict, label)\n",
    "        loss.backward()\n",
    "        optimizer.step()\n",
    "        \n",
    "        average_cost = average_cost + (loss.item()/num_of_mini_batch)\n",
    "        loss_list.append(loss)\n",
    "        \n",
    "    print(\"Epoch {} Loss {:.5f}\".format((epoch_num+1), average_cost))"
   ]
  },
  {
   "cell_type": "code",
   "execution_count": 26,
   "id": "03786d81",
   "metadata": {},
   "outputs": [
    {
     "name": "stdout",
     "output_type": "stream",
     "text": [
      "Model accuracy 96.83000%\n"
     ]
    }
   ],
   "source": [
    "# validation\n",
    "with torch.no_grad(): # validation용이니까 gradient를 계산하지 말아라 -> 연산부담 줄여줌.\n",
    "    num_total_data = 0\n",
    "    correct = 0\n",
    "    for batch_idx, (images, labels) in enumerate(test_loader):\n",
    "        images = images.reshape(-1, 28*28)\n",
    "        images = images.to(device)\n",
    "        labels = labels.to(device)\n",
    "        outputs = model(images)\n",
    "        \n",
    "        # softmax function을 통과시켜서 결과 Get\n",
    "        outputs_softmax = F.softmax(outputs, dim=1)\n",
    "        predicted = torch.argmax(outputs_softmax, dim=1)\n",
    "        \n",
    "        num_total_data += len(images)\n",
    "        answer = sum(labels==predicted).item()\n",
    "        correct += answer\n",
    "        \n",
    "print(\"Model accuracy {:.5f}%\".format((correct/num_total_data)*100))"
   ]
  }
 ],
 "metadata": {
  "kernelspec": {
   "display_name": "ML",
   "language": "python",
   "name": "ml"
  },
  "language_info": {
   "codemirror_mode": {
    "name": "ipython",
    "version": 3
   },
   "file_extension": ".py",
   "mimetype": "text/x-python",
   "name": "python",
   "nbconvert_exporter": "python",
   "pygments_lexer": "ipython3",
   "version": "3.10.13"
  }
 },
 "nbformat": 4,
 "nbformat_minor": 5
}
