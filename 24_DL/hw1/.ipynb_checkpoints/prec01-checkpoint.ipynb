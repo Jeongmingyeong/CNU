{
 "cells": [
  {
   "cell_type": "code",
   "execution_count": 1,
   "id": "0359e2f0",
   "metadata": {},
   "outputs": [
    {
     "name": "stdout",
     "output_type": "stream",
     "text": [
      "Intel MKL WARNING: Support of Intel(R) Streaming SIMD Extensions 4.2 (Intel(R) SSE4.2) enabled only processors has been deprecated. Intel oneAPI Math Kernel Library 2025.0 will require Intel(R) Advanced Vector Extensions (Intel(R) AVX) instructions.\n",
      "Intel MKL WARNING: Support of Intel(R) Streaming SIMD Extensions 4.2 (Intel(R) SSE4.2) enabled only processors has been deprecated. Intel oneAPI Math Kernel Library 2025.0 will require Intel(R) Advanced Vector Extensions (Intel(R) AVX) instructions.\n"
     ]
    }
   ],
   "source": [
    "import torch\n",
    "import torch.nn as nn\n",
    "import torch.nn.functional as F\n",
    "from torch.utils.data import Dataset, DataLoader\n",
    "import torch.utils.data as data_utils\n",
    "\n",
    "import numpy as np\n",
    "import matplotlib.pyplot as plt\n",
    "\n",
    "from sklearn.preprocessing import StandardScaler\n",
    "from sklearn.model_selection import train_test_split\n",
    "from sklearn.datasets import fetch_california_housing"
   ]
  },
  {
   "cell_type": "code",
   "execution_count": 2,
   "id": "736df6bd",
   "metadata": {},
   "outputs": [
    {
     "name": "stdout",
     "output_type": "stream",
     "text": [
      "dict_keys(['data', 'target', 'frame', 'target_names', 'feature_names', 'DESCR'])\n",
      "['MedInc', 'HouseAge', 'AveRooms', 'AveBedrms', 'Population', 'AveOccup', 'Latitude', 'Longitude']\n"
     ]
    }
   ],
   "source": [
    "housing = fetch_california_housing()\n",
    "print(housing.keys())\n",
    "print(housing.feature_names)"
   ]
  },
  {
   "cell_type": "code",
   "execution_count": 3,
   "id": "720ead4d",
   "metadata": {},
   "outputs": [
    {
     "name": "stdout",
     "output_type": "stream",
     "text": [
      "(20640, 8)\n",
      "(20640,)\n"
     ]
    },
    {
     "data": {
      "text/plain": [
       "array([4.526, 3.585, 3.521, ..., 0.923, 0.847, 0.894])"
      ]
     },
     "execution_count": 3,
     "metadata": {},
     "output_type": "execute_result"
    }
   ],
   "source": [
    "x_data = housing.data\n",
    "y_data = housing.target\n",
    "\n",
    "print(x_data.shape)  ## 20640 개의 data 를 가지고 있는 feature 가 8개\n",
    "print(y_data.shape)  ## 20640 개의 정답 data\n",
    "\n",
    "y_data"
   ]
  },
  {
   "cell_type": "code",
   "execution_count": 4,
   "id": "c8592723",
   "metadata": {},
   "outputs": [
    {
     "name": "stdout",
     "output_type": "stream",
     "text": [
      "(16512, 8)\n",
      "(16512,)\n",
      "(4128, 8)\n",
      "(4128,)\n"
     ]
    }
   ],
   "source": [
    "x_train, x_test, y_train, y_test = train_test_split(x_data, y_data, test_size = 0.2)\n",
    "\n",
    "print(x_train.shape)\n",
    "print(y_train.shape)\n",
    "print(x_test.shape)\n",
    "print(y_test.shape)"
   ]
  },
  {
   "cell_type": "code",
   "execution_count": 5,
   "id": "35900a5f",
   "metadata": {},
   "outputs": [],
   "source": [
    "from sklearn.preprocessing import StandardScaler\n",
    "\n",
    "scaler = StandardScaler()\n",
    "x_train_scaled = scaler.fit_transform(x_train) ## fit : 어떠한 분포로 맞춤 | transform : 형태를 바꿔주는 기능(?)\n",
    "x_test_scaled = scaler.transform(x_test)\n",
    "\n",
    "x_train_tensor = torch.FloatTensor(x_train_scaled)\n",
    "y_train_tensor = torch.FloatTensor(y_train)\n",
    "\n",
    "x_test_tensor = torch.FloatTensor(x_test_scaled)\n",
    "y_test_tensor = torch.FloatTensor(y_test)"
   ]
  },
  {
   "cell_type": "code",
   "execution_count": 6,
   "id": "62f8e346",
   "metadata": {},
   "outputs": [
    {
     "name": "stdout",
     "output_type": "stream",
     "text": [
      "0\n",
      "torch.Size([100, 8])\n",
      "torch.Size([100])\n"
     ]
    }
   ],
   "source": [
    "# 데이터 배치화 (100개 단위로 쪼갠 걸 한번 다 훑으면 1 epoch)\n",
    "\n",
    "## dataloader 에 넣기 위해 x_train_tensor 와 y_train_tensor 를 train_data 로 변환해줌.\n",
    "train_data = data_utils.TensorDataset(x_train_tensor, y_train_tensor) \n",
    "\n",
    "## dataloader 는 data를 batch 단위로 쪼개줌. (drop_last 는 자르고 남는 걸 버릴것이냐)\n",
    "dataloader = data_utils.DataLoader(train_data, batch_size=100, shuffle=True, drop_last=True)\n",
    "\n",
    "# 데이터 확인\n",
    "for batch_idx, (x_batch, y_batch) in enumerate(dataloader):\n",
    "    print(batch_idx)\n",
    "    print(x_batch.shape)\n",
    "    print(y_batch.shape)\n",
    "    break"
   ]
  },
  {
   "cell_type": "code",
   "execution_count": 7,
   "id": "b4e1eeb0",
   "metadata": {},
   "outputs": [],
   "source": [
    "# parameter 정의\n",
    "input_size = 8  ## 8개 feature\n",
    "output_size = 1\n",
    "learning_rate = 0.01\n",
    "n_epochs = 100"
   ]
  },
  {
   "cell_type": "code",
   "execution_count": 8,
   "id": "455a876d",
   "metadata": {},
   "outputs": [],
   "source": [
    "# model 생성\n",
    "model = nn.Linear(input_size, output_size)\n",
    "\n",
    "# 손실함수 생성\n",
    "criterion = nn.MSELoss()\n",
    "optimizer = torch.optim.SGD(model.parameters(), lr=learning_rate)"
   ]
  },
  {
   "cell_type": "code",
   "execution_count": 9,
   "id": "9327a46d",
   "metadata": {
    "scrolled": true
   },
   "outputs": [
    {
     "name": "stdout",
     "output_type": "stream",
     "text": [
      "epoch:0, Loss_train:0.58, Loss_test:0.56\n",
      "epoch:1, Loss_train:0.68, Loss_test:0.59\n",
      "epoch:2, Loss_train:0.56, Loss_test:0.53\n",
      "epoch:3, Loss_train:0.52, Loss_test:0.54\n",
      "epoch:4, Loss_train:0.93, Loss_test:0.52\n",
      "epoch:5, Loss_train:0.64, Loss_test:0.53\n",
      "epoch:6, Loss_train:0.46, Loss_test:0.52\n",
      "epoch:7, Loss_train:0.56, Loss_test:0.54\n",
      "epoch:8, Loss_train:0.54, Loss_test:0.54\n",
      "epoch:9, Loss_train:0.64, Loss_test:0.58\n",
      "epoch:10, Loss_train:0.56, Loss_test:0.56\n",
      "epoch:11, Loss_train:0.38, Loss_test:0.53\n",
      "epoch:12, Loss_train:0.56, Loss_test:0.55\n",
      "epoch:13, Loss_train:0.48, Loss_test:0.54\n",
      "epoch:14, Loss_train:0.33, Loss_test:0.55\n",
      "epoch:15, Loss_train:0.49, Loss_test:0.53\n",
      "epoch:16, Loss_train:0.42, Loss_test:0.58\n",
      "epoch:17, Loss_train:0.47, Loss_test:0.54\n",
      "epoch:18, Loss_train:0.71, Loss_test:0.57\n",
      "epoch:19, Loss_train:0.99, Loss_test:0.55\n",
      "epoch:20, Loss_train:0.44, Loss_test:0.55\n",
      "epoch:21, Loss_train:0.62, Loss_test:0.54\n",
      "epoch:22, Loss_train:0.47, Loss_test:0.54\n",
      "epoch:23, Loss_train:0.58, Loss_test:0.53\n",
      "epoch:24, Loss_train:0.37, Loss_test:0.69\n",
      "epoch:25, Loss_train:0.51, Loss_test:0.56\n",
      "epoch:26, Loss_train:0.48, Loss_test:0.55\n",
      "epoch:27, Loss_train:0.67, Loss_test:0.53\n",
      "epoch:28, Loss_train:0.33, Loss_test:0.57\n",
      "epoch:29, Loss_train:0.58, Loss_test:0.58\n",
      "epoch:30, Loss_train:0.68, Loss_test:0.53\n",
      "epoch:31, Loss_train:0.59, Loss_test:0.55\n",
      "epoch:32, Loss_train:0.70, Loss_test:0.55\n",
      "epoch:33, Loss_train:0.38, Loss_test:0.55\n",
      "epoch:34, Loss_train:0.58, Loss_test:0.54\n",
      "epoch:35, Loss_train:0.55, Loss_test:0.54\n",
      "epoch:36, Loss_train:0.51, Loss_test:0.54\n",
      "epoch:37, Loss_train:0.55, Loss_test:0.55\n",
      "epoch:38, Loss_train:0.54, Loss_test:0.56\n",
      "epoch:39, Loss_train:0.55, Loss_test:0.53\n",
      "epoch:40, Loss_train:0.32, Loss_test:0.53\n",
      "epoch:41, Loss_train:0.51, Loss_test:0.54\n",
      "epoch:42, Loss_train:0.72, Loss_test:0.53\n",
      "epoch:43, Loss_train:0.43, Loss_test:0.55\n",
      "epoch:44, Loss_train:0.60, Loss_test:0.54\n",
      "epoch:45, Loss_train:0.44, Loss_test:0.55\n",
      "epoch:46, Loss_train:0.35, Loss_test:0.54\n",
      "epoch:47, Loss_train:0.42, Loss_test:0.55\n",
      "epoch:48, Loss_train:0.37, Loss_test:0.55\n",
      "epoch:49, Loss_train:0.49, Loss_test:0.53\n",
      "epoch:50, Loss_train:0.53, Loss_test:0.54\n",
      "epoch:51, Loss_train:0.67, Loss_test:0.54\n",
      "epoch:52, Loss_train:0.48, Loss_test:0.54\n",
      "epoch:53, Loss_train:0.36, Loss_test:0.54\n",
      "epoch:54, Loss_train:0.47, Loss_test:0.55\n",
      "epoch:55, Loss_train:0.91, Loss_test:0.55\n",
      "epoch:56, Loss_train:0.40, Loss_test:0.55\n",
      "epoch:57, Loss_train:0.64, Loss_test:0.54\n",
      "epoch:58, Loss_train:0.56, Loss_test:0.54\n",
      "epoch:59, Loss_train:0.44, Loss_test:0.54\n",
      "epoch:60, Loss_train:0.79, Loss_test:0.55\n",
      "epoch:61, Loss_train:0.73, Loss_test:0.54\n",
      "epoch:62, Loss_train:0.56, Loss_test:0.56\n",
      "epoch:63, Loss_train:0.43, Loss_test:0.56\n",
      "epoch:64, Loss_train:0.47, Loss_test:0.53\n",
      "epoch:65, Loss_train:0.67, Loss_test:0.58\n",
      "epoch:66, Loss_train:0.52, Loss_test:0.53\n",
      "epoch:67, Loss_train:0.68, Loss_test:0.53\n",
      "epoch:68, Loss_train:0.48, Loss_test:0.53\n",
      "epoch:69, Loss_train:0.61, Loss_test:0.53\n",
      "epoch:70, Loss_train:0.34, Loss_test:0.53\n",
      "epoch:71, Loss_train:0.44, Loss_test:0.56\n",
      "epoch:72, Loss_train:0.66, Loss_test:0.57\n",
      "epoch:73, Loss_train:0.49, Loss_test:0.54\n",
      "epoch:74, Loss_train:0.51, Loss_test:0.52\n",
      "epoch:75, Loss_train:0.70, Loss_test:0.55\n",
      "epoch:76, Loss_train:0.74, Loss_test:0.52\n",
      "epoch:77, Loss_train:0.48, Loss_test:0.55\n",
      "epoch:78, Loss_train:0.45, Loss_test:0.56\n",
      "epoch:79, Loss_train:0.65, Loss_test:0.55\n",
      "epoch:80, Loss_train:0.46, Loss_test:0.54\n",
      "epoch:81, Loss_train:0.50, Loss_test:0.54\n",
      "epoch:82, Loss_train:0.55, Loss_test:0.53\n",
      "epoch:83, Loss_train:0.67, Loss_test:0.53\n",
      "epoch:84, Loss_train:0.62, Loss_test:0.54\n",
      "epoch:85, Loss_train:0.37, Loss_test:0.53\n",
      "epoch:86, Loss_train:0.60, Loss_test:0.56\n",
      "epoch:87, Loss_train:0.62, Loss_test:0.53\n",
      "epoch:88, Loss_train:0.50, Loss_test:0.53\n",
      "epoch:89, Loss_train:0.47, Loss_test:0.56\n",
      "epoch:90, Loss_train:0.60, Loss_test:0.53\n",
      "epoch:91, Loss_train:0.41, Loss_test:0.55\n",
      "epoch:92, Loss_train:0.51, Loss_test:0.56\n",
      "epoch:93, Loss_train:0.46, Loss_test:0.55\n",
      "epoch:94, Loss_train:0.50, Loss_test:0.54\n",
      "epoch:95, Loss_train:0.40, Loss_test:0.54\n",
      "epoch:96, Loss_train:0.49, Loss_test:0.54\n",
      "epoch:97, Loss_train:0.56, Loss_test:0.53\n",
      "epoch:98, Loss_train:0.63, Loss_test:0.55\n",
      "epoch:99, Loss_train:0.55, Loss_test:0.54\n",
      "epoch:100, Loss_train:0.82, Loss_test:0.55\n"
     ]
    }
   ],
   "source": [
    "# Running the model\n",
    "train_loss = []\n",
    "test_loss = []\n",
    "\n",
    "for epoch in range(n_epochs+1):\n",
    "    for idx, (x_batch, y_batch) in enumerate(dataloader):\n",
    "        # Batch학습\n",
    "        model.train() ## train모드로 바꿔줌.\n",
    "        optimizer.zero_grad() ## gradiant 초기화\n",
    "        y_pred = model(x_batch)\n",
    "        y_pred = y_pred.reshape(-1) # y_batch 와 비교하기 위해서 차원을 맞춰줌.\n",
    "        loss_train = criterion(y_pred, y_batch)\n",
    "        loss_train.backward()\n",
    "        optimizer.step()\n",
    "\n",
    "        # Validation\n",
    "        model.eval()\n",
    "        y_test_pred = model(x_test_tensor)\n",
    "        y_test_pred = y_test_pred.reshape(-1)\n",
    "        loss_test = criterion(y_test_pred, y_test_tensor)\n",
    "\n",
    "    train_loss.append(loss_train.item())\n",
    "    test_loss.append(loss_test.item())\n",
    "    print(\"epoch:{}, Loss_train:{:.2f}, Loss_test:{:.2f}\".format(epoch, train_loss[-1], test_loss[-1]))"
   ]
  },
  {
   "cell_type": "code",
   "execution_count": 12,
   "id": "6ed9070e",
   "metadata": {},
   "outputs": [
    {
     "data": {
      "image/png": "[encoded data removed]",
      "text/plain": [
       "<Figure size 640x480 with 1 Axes>"
      ]
     },
     "metadata": {},
     "output_type": "display_data"
    }
   ],
   "source": [
    "plt.figure()\n",
    "plt.plot(train_loss, label='train')\n",
    "plt.plot(test_loss, label='test')\n",
    "plt.title('Model loss')\n",
    "plt.legend(loc='upper right')\n",
    "plt.show()"
   ]
  },
  {
   "cell_type": "code",
   "execution_count": 11,
   "id": "a1102689",
   "metadata": {},
   "outputs": [
    {
     "data": {
      "text/plain": [
       "OrderedDict([('weight',\n",
       "              tensor([[ 0.8508,  0.1227, -0.2854,  0.3525, -0.0112, -0.0501, -0.8978, -0.8828]])),\n",
       "             ('bias', tensor([2.0693]))])"
      ]
     },
     "execution_count": 11,
     "metadata": {},
     "output_type": "execute_result"
    }
   ],
   "source": [
    "# model 의 학습된 파라미터 확인\n",
    "model.state_dict()"
   ]
  }
 ],
 "metadata": {
  "kernelspec": {
   "display_name": "Python 3 (ipykernel)",
   "language": "python",
   "name": "python3"
  },
  "language_info": {
   "codemirror_mode": {
    "name": "ipython",
    "version": 3
   },
   "file_extension": ".py",
   "mimetype": "text/x-python",
   "name": "python",
   "nbconvert_exporter": "python",
   "pygments_lexer": "ipython3",
   "version": "3.10.13"
  }
 },
 "nbformat": 4,
 "nbformat_minor": 5
}
