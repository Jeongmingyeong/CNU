{
 "cells": [
  {
   "cell_type": "markdown",
   "metadata": {},
   "source": [
    "## Hw1. Autoencoder (with convolution)\n",
    "- 실습때 진행했던 Autoencoder를 Convolutional Autoencoder로 구현\n",
    "- 사용 데이터는 실습과 동일한 FashionMNIST로 진행\n",
    "- CAE를 통과하면 데이터는 (1, 28, 28) -> (32, 14, 14) -> (64, 7, 7) -> (32, 14, 14) -> (1, 28, 28) 로 변경\n",
    "- 최종 CAE를 거치면 다시 복원된 데이터가 나오게 됨.\n",
    "- 실습 때 진행했던 기본 Autoencoder에 비해 대체적으로 정확도 높게 잘 나오는 것으로 확인됨."
   ]
  },
  {
   "cell_type": "code",
   "execution_count": 1,
   "metadata": {
    "id": "-0F_zy5virtY"
   },
   "outputs": [],
   "source": [
    "import torch\n",
    "import torch.nn as nn\n",
    "import torch.nn.functional as F\n",
    "from torch.utils.data import Dataset, DataLoader\n",
    "import torch.utils.data as data_utils\n",
    "import torchvision\n",
    "import torchvision.transforms as transforms\n",
    "\n",
    "import numpy as np\n",
    "import matplotlib.pyplot as plt\n",
    "import random"
   ]
  },
  {
   "cell_type": "code",
   "execution_count": 2,
   "metadata": {
    "colab": {
     "base_uri": "https://localhost:8080/"
    },
    "id": "v3i_CNx3jB7Y",
    "outputId": "97c18a99-0f8c-42ec-9a4a-cc86e97576bb"
   },
   "outputs": [
    {
     "name": "stdout",
     "output_type": "stream",
     "text": [
      "cpu\n"
     ]
    }
   ],
   "source": [
    "device = 'cuda' if torch.cuda.is_available() else 'cpu'\n",
    "print(device)\n",
    "\n",
    "random.seed(777)\n",
    "torch.manual_seed(777)\n",
    "if device == 'cuda':\n",
    "  torch.cuda.manual_seed(777)"
   ]
  },
  {
   "cell_type": "code",
   "execution_count": 3,
   "metadata": {
    "id": "JzV3_X5RjCxc"
   },
   "outputs": [],
   "source": [
    "fashion_train = torchvision.datasets.FashionMNIST(root='./data', train=True, download=True, transform=transforms.ToTensor())\n",
    "fashion_test = torchvision.datasets.FashionMNIST(root='./data', train=False, download=True, transform=transforms.ToTensor())\n",
    "\n",
    "fashion_train.data = fashion_train.data / 255.0\n",
    "fashion_train.targets = fashion_train.targets\n",
    "fashion_test.data = fashion_test.data / 255.0\n",
    "fashion_test.targets = fashion_test.targets"
   ]
  },
  {
   "cell_type": "code",
   "execution_count": 4,
   "metadata": {
    "colab": {
     "base_uri": "https://localhost:8080/",
     "height": 447
    },
    "id": "wOFJ7XA9YZpB",
    "outputId": "7edeff96-6aa3-4894-af27-0fa7aabc3c7c"
   },
   "outputs": [
    {
     "name": "stdout",
     "output_type": "stream",
     "text": [
      "tensor(0)\n"
     ]
    },
    {
     "data": {
      "image/png": "[encoded data removed]",
      "text/plain": [
       "<Figure size 640x480 with 1 Axes>"
      ]
     },
     "metadata": {},
     "output_type": "display_data"
    }
   ],
   "source": [
    "plt.imshow(fashion_train.data[1], cmap=\"gray\")\n",
    "print(fashion_train.targets[1])"
   ]
  },
  {
   "cell_type": "code",
   "execution_count": 5,
   "metadata": {
    "id": "ZaAjzQyZjLaS"
   },
   "outputs": [],
   "source": [
    "batch_size = 256\n",
    "\n",
    "train_loader = DataLoader(dataset=fashion_train.data, batch_size=batch_size, shuffle=True, drop_last=False)\n",
    "test_loader = DataLoader(dataset=fashion_test.data, batch_size=len(fashion_test.data), shuffle=False, drop_last=False)"
   ]
  },
  {
   "cell_type": "code",
   "execution_count": 6,
   "metadata": {},
   "outputs": [
    {
     "name": "stdout",
     "output_type": "stream",
     "text": [
      "torch.Size([256, 28, 28])\n",
      "torch.Size([28, 28])\n"
     ]
    },
    {
     "data": {
      "image/png": "[encoded data removed]",
      "text/plain": [
       "<Figure size 640x480 with 1 Axes>"
      ]
     },
     "metadata": {},
     "output_type": "display_data"
    }
   ],
   "source": [
    "# print dataset form and image\n",
    "\n",
    "for i, data in enumerate(train_loader):\n",
    "    x = data\n",
    "    # print(y.shape)\n",
    "    print(x.shape) # batch_size, channel, width, height\n",
    "    print(x[0].shape)\n",
    "    # print(y[0])\n",
    "    plt.imshow(x[0])\n",
    "    break"
   ]
  },
  {
   "cell_type": "code",
   "execution_count": 7,
   "metadata": {},
   "outputs": [
    {
     "name": "stdout",
     "output_type": "stream",
     "text": [
      "Conv2d(1, 32, kernel_size=(3, 3), stride=(2, 2), padding=(1, 1))\n",
      "Conv2d(32, 64, kernel_size=(3, 3), stride=(2, 2), padding=(1, 1))\n",
      "ConvTranspose2d(64, 32, kernel_size=(2, 2), stride=(2, 2))\n",
      "ConvTranspose2d(32, 1, kernel_size=(2, 2), stride=(2, 2))\n",
      "input:  torch.Size([256, 1, 28, 28])\n",
      "pass conv1:  torch.Size([256, 32, 14, 14])\n",
      "pass conv2:  torch.Size([256, 64, 7, 7])\n",
      "reconv1:  torch.Size([256, 32, 14, 14])\n",
      "torch.Size([256, 1, 28, 28])\n"
     ]
    }
   ],
   "source": [
    "## Convolutional layers - for check\n",
    "conv1 = nn.Conv2d(1, 32, kernel_size=3, stride=2, padding=1)\n",
    "conv2 = nn.Conv2d(32, 64, kernel_size=3, stride=2, padding=1)\n",
    "# conv3 = nn.Conv2d(64, 128, kernel_size=3, stride=2, padding=1)\n",
    "\n",
    "# conv4 = nn.ConvTranspose2d(128, 64, kernel_size=2, stride=2)\n",
    "conv5 = nn.ConvTranspose2d(64, 32, kernel_size=2, stride=2)\n",
    "conv6 = nn.ConvTranspose2d(32, 1, kernel_size=2, stride=2)\n",
    "\n",
    "print(conv1)\n",
    "print(conv2)\n",
    "# print(conv3)\n",
    "\n",
    "# print(conv4)\n",
    "print(conv5)\n",
    "print(conv6)\n",
    "\n",
    "pool = nn.MaxPool2d(2, 2)\n",
    "input_data = torch.Tensor(batch_size, 1, 28, 28)\n",
    "print(\"input: \", input_data.shape)\n",
    "\n",
    "pc1 = conv1(input_data)\n",
    "print(\"pass conv1: \", pc1.shape)\n",
    "\n",
    "pc2 = conv2(pc1)\n",
    "print(\"pass conv2: \", pc2.shape)\n",
    "\n",
    "# pc3 = conv3(pc2)\n",
    "# print(\"pass conv3: \", pc3.shape)\n",
    "\n",
    "# pool = nn.MaxPool2d(2)\n",
    "# print(conv1(input_data)).shape\n",
    "\n",
    "# pool3 = nn.MaxPool2d(3)\n",
    "# final_output = conv3(pool(conv2(pool(conv1(input_data)))))\n",
    "# print(\"middle result : \", final_output.shape)\n",
    "\n",
    "final_output = conv5(pc2)\n",
    "print(\"reconv1: \", final_output.shape)\n",
    "\n",
    "# final_output = conv5(final_output)\n",
    "# print(final_output.shape)\n",
    "\n",
    "final_output = conv6(final_output)\n",
    "print(final_output.shape)\n",
    "\n",
    "# final_output = pool3(final_output)\n",
    "# final_output = conv6(conv5(conv4(final_output)))\n",
    "# print(final_output.shape)\n",
    "\n",
    "out = final_output.view(final_output.shape[0], -1)\n",
    "# print(out.shape)\n",
    "\n",
    "# fc = nn.Linear(256, 2048)\n",
    "# fc(out).shape"
   ]
  },
  {
   "cell_type": "code",
   "execution_count": 8,
   "metadata": {
    "id": "6ZpklnaJjN1V"
   },
   "outputs": [],
   "source": [
    "class Autoencoder(nn.Module):\n",
    "  def __init__(self):\n",
    "    super(Autoencoder, self).__init__()\n",
    "    \n",
    "    # encoder\n",
    "    self.encoderlayer1 = nn.Sequential(nn.Conv2d(1, 32, kernel_size=3, stride=2, padding=1),\n",
    "                                       nn.BatchNorm2d(32),\n",
    "                                       nn.LeakyReLU())\n",
    "        \n",
    "    self.encoderlayer2 = nn.Sequential(nn.Conv2d(32, 64, kernel_size=3, stride=2, padding=1),\n",
    "                                       nn.BatchNorm2d(64),\n",
    "                                       nn.LeakyReLU())\n",
    "\n",
    "    # decoder\n",
    "    self.decoderlayer2 = nn.Sequential(nn.ConvTranspose2d(64, 32, kernel_size=2, stride=2),\n",
    "                                       nn.BatchNorm2d(32),\n",
    "                                       nn.LeakyReLU())\n",
    "    \n",
    "    self.decoderlayer3 = nn.Sequential(nn.ConvTranspose2d(32, 1, kernel_size=2, stride=2),\n",
    "                                       nn.BatchNorm2d(1),\n",
    "                                       nn.LeakyReLU())\n",
    "\n",
    "\n",
    "  def forward(self, x):\n",
    "    out = self.encoderlayer1(x)\n",
    "    out = self.encoderlayer2(out)\n",
    "    out = self.decoderlayer2(out)\n",
    "    output = self.decoderlayer3(out)\n",
    "\n",
    "    return torch.sigmoid(output)"
   ]
  },
  {
   "cell_type": "code",
   "execution_count": 9,
   "metadata": {
    "colab": {
     "base_uri": "https://localhost:8080/"
    },
    "id": "gBa1Bfuij_g4",
    "outputId": "991c8a3b-5415-4dac-e3c1-8cbc462f7eac"
   },
   "outputs": [
    {
     "data": {
      "text/plain": [
       "Autoencoder(\n",
       "  (encoderlayer1): Sequential(\n",
       "    (0): Conv2d(1, 32, kernel_size=(3, 3), stride=(2, 2), padding=(1, 1))\n",
       "    (1): BatchNorm2d(32, eps=1e-05, momentum=0.1, affine=True, track_running_stats=True)\n",
       "    (2): LeakyReLU(negative_slope=0.01)\n",
       "  )\n",
       "  (encoderlayer2): Sequential(\n",
       "    (0): Conv2d(32, 64, kernel_size=(3, 3), stride=(2, 2), padding=(1, 1))\n",
       "    (1): BatchNorm2d(64, eps=1e-05, momentum=0.1, affine=True, track_running_stats=True)\n",
       "    (2): LeakyReLU(negative_slope=0.01)\n",
       "  )\n",
       "  (decoderlayer2): Sequential(\n",
       "    (0): ConvTranspose2d(64, 32, kernel_size=(2, 2), stride=(2, 2))\n",
       "    (1): BatchNorm2d(32, eps=1e-05, momentum=0.1, affine=True, track_running_stats=True)\n",
       "    (2): LeakyReLU(negative_slope=0.01)\n",
       "  )\n",
       "  (decoderlayer3): Sequential(\n",
       "    (0): ConvTranspose2d(32, 1, kernel_size=(2, 2), stride=(2, 2))\n",
       "    (1): BatchNorm2d(1, eps=1e-05, momentum=0.1, affine=True, track_running_stats=True)\n",
       "    (2): LeakyReLU(negative_slope=0.01)\n",
       "  )\n",
       ")"
      ]
     },
     "execution_count": 9,
     "metadata": {},
     "output_type": "execute_result"
    }
   ],
   "source": [
    "model = Autoencoder().to(device)\n",
    "model"
   ]
  },
  {
   "cell_type": "code",
   "execution_count": 10,
   "metadata": {
    "id": "ILg2XI2GkXlf"
   },
   "outputs": [],
   "source": [
    "num_epochs = 10\n",
    "learning_rate = 0.001\n",
    "\n",
    "criterion = nn.MSELoss()\n",
    "optimizer = torch.optim.Adam(model.parameters(), lr=learning_rate)"
   ]
  },
  {
   "cell_type": "code",
   "execution_count": 11,
   "metadata": {
    "colab": {
     "base_uri": "https://localhost:8080/"
    },
    "id": "LNoSNP_GkdIm",
    "outputId": "959d8cae-f4c9-4186-e4d4-ea40cc054273"
   },
   "outputs": [
    {
     "name": "stdout",
     "output_type": "stream",
     "text": [
      "Epoch 1 Loss 0.14701\n",
      "Epoch 2 Loss 0.14172\n",
      "Epoch 3 Loss 0.14130\n",
      "Epoch 4 Loss 0.14098\n",
      "Epoch 5 Loss 0.14067\n",
      "Epoch 6 Loss 0.14034\n",
      "Epoch 7 Loss 0.13999\n",
      "Epoch 8 Loss 0.13963\n",
      "Epoch 9 Loss 0.13926\n",
      "Epoch 10 Loss 0.13890\n"
     ]
    }
   ],
   "source": [
    "loss_list = []\n",
    "\n",
    "for epoch_num in range(num_epochs):\n",
    "  average_cost = 0\n",
    "\n",
    "  for batch_idx, images in enumerate(train_loader):\n",
    "    num_of_mini_batch = len(train_loader)\n",
    "\n",
    "    images = images.to(device)\n",
    "#     print(images.shape)\n",
    "    input_image = images.unsqueeze(1) # 차원 생성 [256, 28, 28] -> [256, 1, 28, 28] 로 변경\n",
    "    optimizer.zero_grad()\n",
    "    y_predict = model(input_image)\n",
    "    loss = criterion(y_predict, input_image)\n",
    "    loss.backward()\n",
    "    optimizer.step()\n",
    "\n",
    "    average_cost = average_cost + (loss.item() / num_of_mini_batch)\n",
    "    loss_list.append(loss)\n",
    "\n",
    "  print(\"Epoch {} Loss {:.5f}\".format((epoch_num + 1), average_cost))"
   ]
  },
  {
   "cell_type": "code",
   "execution_count": 12,
   "metadata": {
    "id": "kxUzXSPGkwbh"
   },
   "outputs": [],
   "source": [
    "for batch_idx, image in enumerate(test_loader):\n",
    "  with torch.no_grad():\n",
    "    test_img = image.unsqueeze(1).to(device)\n",
    "    test_recon_x = model(test_img)"
   ]
  },
  {
   "cell_type": "code",
   "execution_count": 13,
   "metadata": {
    "colab": {
     "base_uri": "https://localhost:8080/",
     "height": 405
    },
    "id": "Y13a5GMfBnHo",
    "outputId": "32cb8ac5-b445-42a1-fc92-7960d58506f4"
   },
   "outputs": [
    {
     "data": {
      "image/png": "[encoded data removed]",
      "text/plain": [
       "<Figure size 2000x500 with 20 Axes>"
      ]
     },
     "metadata": {},
     "output_type": "display_data"
    }
   ],
   "source": [
    "n = 10\n",
    "plt.figure(figsize=(20, 5))\n",
    "\n",
    "for i in range(n):\n",
    "    ax = plt.subplot(2, 10, i + 1)\n",
    "    test_img = image[i * 100].to(device)\n",
    "    plt.imshow(test_img.cpu(), cmap='gray') # original image\n",
    "\n",
    "    ax = plt.subplot(2, 10, i + 1 + n)\n",
    "    recon_image = test_recon_x.data[i * 100].reshape(28, 28)\n",
    "    plt.imshow(recon_image.cpu(), cmap='gray') # reconstruct image"
   ]
  },
  {
   "cell_type": "markdown",
   "metadata": {},
   "source": [
    "## Hw2. Variational Autoencoder (VAE)\n",
    "- 실습과 동일한 데이터를 사용하며, 중간 (400, 200) 의 layer를 하나 추가하여 모델 구성함.\n",
    "- latent space의 차원도 20 -> 5로 바꿔 모델 구성.\n",
    "- epoch 수도 10 -> 20으로 늘려서 학습 진행.\n",
    "- 결과를 비교해봤을 때, latent space 의 차원을 20 -> 5로 변경하니 좀 더 흐릿한 결과를 확인할 수 있다."
   ]
  },
  {
   "cell_type": "code",
   "execution_count": 14,
   "metadata": {
    "id": "W0J-P9doFX5Q"
   },
   "outputs": [],
   "source": [
    "import torch\n",
    "import torch.nn as nn\n",
    "import torch.nn.functional as F\n",
    "from torch.utils.data import Dataset, DataLoader\n",
    "import torch.utils.data as data_utils\n",
    "import torchvision\n",
    "import torchvision.transforms as transforms\n",
    "\n",
    "import numpy as np\n",
    "import matplotlib.pyplot as plt\n",
    "import random"
   ]
  },
  {
   "cell_type": "code",
   "execution_count": 15,
   "metadata": {
    "colab": {
     "base_uri": "https://localhost:8080/"
    },
    "id": "0pbJ6IC5YZpD",
    "outputId": "8cf6d1c1-30c4-4700-9c3c-f94960263c77"
   },
   "outputs": [
    {
     "name": "stdout",
     "output_type": "stream",
     "text": [
      "cpu\n"
     ]
    }
   ],
   "source": [
    "device = 'cuda' if torch.cuda.is_available() else 'cpu'\n",
    "print(device)\n",
    "\n",
    "random.seed(777)\n",
    "torch.manual_seed(777)\n",
    "if device == 'cuda':\n",
    "  torch.cuda.manual_seed(777)"
   ]
  },
  {
   "cell_type": "code",
   "execution_count": 16,
   "metadata": {
    "id": "TUO-E2pjYZpD"
   },
   "outputs": [],
   "source": [
    "train_dataset = torchvision.datasets.MNIST(root='./data', train=True, transform=transforms.ToTensor(), download=True)\n",
    "test_dataset = torchvision.datasets.MNIST(root='./data', train=False, transform=transforms.ToTensor(), download=True)"
   ]
  },
  {
   "cell_type": "code",
   "execution_count": 17,
   "metadata": {
    "id": "EAkbPlKVYZpD"
   },
   "outputs": [],
   "source": [
    "batch_size = 256\n",
    "\n",
    "train_loader = DataLoader(dataset=train_dataset, batch_size=batch_size, shuffle=True)\n",
    "test_loader = DataLoader(dataset=train_dataset, batch_size=batch_size, shuffle=False)"
   ]
  },
  {
   "cell_type": "code",
   "execution_count": 18,
   "metadata": {
    "id": "eovBw5eTYZpD"
   },
   "outputs": [],
   "source": [
    "class VAE(nn.Module):\n",
    "    def __init__(self):\n",
    "        super(VAE, self).__init__()\n",
    "\n",
    "        self.fc1 = nn.Linear(784, 400)\n",
    "        self.fc2 = nn.Linear(400, 200)\n",
    "        self.mu = nn.Linear(200, 5)\n",
    "        self.logvar = nn.Linear(200, 5)\n",
    "        self.fc3 = nn.Linear(5, 200)\n",
    "        self.fc4 = nn.Linear(200, 400)\n",
    "        self.fc5 = nn.Linear(400, 784)\n",
    "\n",
    "    def encode(self, x):\n",
    "        h = F.leaky_relu(self.fc1(x))\n",
    "        h1 = F.leaky_relu(self.fc2(h))\n",
    "        mu = self.mu(h1)\n",
    "        logvar = self.logvar(h1)\n",
    "\n",
    "        return mu, logvar\n",
    "\n",
    "    def reparameterize(self, mu_vector, logvar_vector):\n",
    "        var_vector = torch.exp(logvar_vector)\n",
    "        std = torch.sqrt(var_vector)\n",
    "        eps = torch.randn_like(std)\n",
    "        z_vector = mu_vector + eps.mul(std)\n",
    "\n",
    "        return z_vector\n",
    "\n",
    "    def decode(self, z):\n",
    "        h = F.leaky_relu(self.fc3(z))\n",
    "        h2 = F.leaky_relu(self.fc4(h))\n",
    "        Bernouhlli_p = torch.sigmoid(self.fc5(h2))\n",
    "\n",
    "        return Bernouhlli_p\n",
    "\n",
    "    def forward(self, x):\n",
    "        mu, logvar = self.encode(x)\n",
    "        z = self.reparameterize(mu, logvar)\n",
    "        Bernouhlli_p = self.decode(z)\n",
    "\n",
    "        return Bernouhlli_p, mu, logvar"
   ]
  },
  {
   "cell_type": "code",
   "execution_count": 19,
   "metadata": {
    "colab": {
     "base_uri": "https://localhost:8080/"
    },
    "id": "8nxks9m5YZpD",
    "outputId": "cd93084b-83e5-409c-c2a1-564e87b52db4"
   },
   "outputs": [
    {
     "data": {
      "text/plain": [
       "VAE(\n",
       "  (fc1): Linear(in_features=784, out_features=400, bias=True)\n",
       "  (fc2): Linear(in_features=400, out_features=200, bias=True)\n",
       "  (mu): Linear(in_features=200, out_features=5, bias=True)\n",
       "  (logvar): Linear(in_features=200, out_features=5, bias=True)\n",
       "  (fc3): Linear(in_features=5, out_features=200, bias=True)\n",
       "  (fc4): Linear(in_features=200, out_features=400, bias=True)\n",
       "  (fc5): Linear(in_features=400, out_features=784, bias=True)\n",
       ")"
      ]
     },
     "execution_count": 19,
     "metadata": {},
     "output_type": "execute_result"
    }
   ],
   "source": [
    "model = VAE().to(device)\n",
    "model"
   ]
  },
  {
   "cell_type": "code",
   "execution_count": 20,
   "metadata": {
    "id": "4k0qoao7YZpD"
   },
   "outputs": [],
   "source": [
    "def loss_function(recon_x, x, mu, logvar):\n",
    "    Bernouhlli_loss = F.binary_cross_entropy(recon_x, x.reshape(-1, 784), reduction='sum')\n",
    "    KL_divergence = -0.5 * torch.sum(1 + logvar - mu.pow(2) - logvar.exp())\n",
    "\n",
    "    return Bernouhlli_loss + KL_divergence"
   ]
  },
  {
   "cell_type": "code",
   "execution_count": 21,
   "metadata": {
    "id": "LtLSGFLeYZpD"
   },
   "outputs": [],
   "source": [
    "num_epochs = 20\n",
    "learning_rate = 0.001\n",
    "\n",
    "optimizer = torch.optim.Adam(model.parameters(), lr=learning_rate)"
   ]
  },
  {
   "cell_type": "code",
   "execution_count": 22,
   "metadata": {
    "colab": {
     "base_uri": "https://localhost:8080/"
    },
    "id": "-R2FKtB9YZpD",
    "outputId": "b37f21ec-0813-4ec5-ce2e-9b8685b09756"
   },
   "outputs": [
    {
     "name": "stdout",
     "output_type": "stream",
     "text": [
      "Epoch 1 Loss 50643.09675\n",
      "Epoch 2 Loss 36629.68449\n",
      "Epoch 3 Loss 34367.08564\n",
      "Epoch 4 Loss 33401.91329\n",
      "Epoch 5 Loss 32770.41294\n",
      "Epoch 6 Loss 32312.02927\n",
      "Epoch 7 Loss 31964.72499\n",
      "Epoch 8 Loss 31676.79771\n",
      "Epoch 9 Loss 31419.76447\n",
      "Epoch 10 Loss 31190.36444\n",
      "Epoch 11 Loss 30970.29001\n",
      "Epoch 12 Loss 30761.34540\n",
      "Epoch 13 Loss 30587.79033\n",
      "Epoch 14 Loss 30428.59260\n",
      "Epoch 15 Loss 30273.46923\n",
      "Epoch 16 Loss 30134.21841\n",
      "Epoch 17 Loss 30017.08731\n",
      "Epoch 18 Loss 29900.66598\n",
      "Epoch 19 Loss 29797.88323\n",
      "Epoch 20 Loss 29700.52860\n"
     ]
    }
   ],
   "source": [
    "loss_list = []\n",
    "\n",
    "for epoch_num in range(num_epochs):\n",
    "  average_cost = 0\n",
    "\n",
    "  for batch_idx, (images, label) in enumerate(train_loader):\n",
    "    num_of_mini_batch = len(train_loader)\n",
    "\n",
    "    images = images.to(device)\n",
    "    input_image = images.reshape(-1, 28 * 28)\n",
    "    optimizer.zero_grad()\n",
    "    recon_x, mu, logvar = model(input_image)\n",
    "    loss = loss_function(recon_x, input_image, mu, logvar)\n",
    "    loss.backward()\n",
    "    optimizer.step()\n",
    "\n",
    "    average_cost = average_cost + (loss.item() / num_of_mini_batch)\n",
    "    loss_list.append(loss)\n",
    "\n",
    "  print(\"Epoch {} Loss {:.5f}\".format((epoch_num + 1), average_cost))"
   ]
  },
  {
   "cell_type": "code",
   "execution_count": 23,
   "metadata": {
    "id": "O4G8M_D2YZpD"
   },
   "outputs": [],
   "source": [
    "for batch_idx, (image, label) in enumerate(test_loader):\n",
    "  with torch.no_grad():\n",
    "    test_img = image.reshape(-1, 784).to(device)\n",
    "    test_recon_x, _, _ = model(test_img)"
   ]
  },
  {
   "cell_type": "code",
   "execution_count": 24,
   "metadata": {
    "colab": {
     "base_uri": "https://localhost:8080/",
     "height": 405
    },
    "id": "CJzM1s-_YZpE",
    "outputId": "4648e95d-94b7-4695-890b-242063ae329d"
   },
   "outputs": [
    {
     "data": {
      "image/png": "[encoded data removed]",
      "text/plain": [
       "<Figure size 2000x500 with 20 Axes>"
      ]
     },
     "metadata": {},
     "output_type": "display_data"
    }
   ],
   "source": [
    "n = 10\n",
    "plt.figure(figsize=(20, 5))\n",
    "\n",
    "for i in range(n):\n",
    "    ax = plt.subplot(2, 10, i + 1)\n",
    "    image = test_img[i].reshape(28, 28)\n",
    "    plt.imshow(image.cpu(), cmap='gray')\n",
    "\n",
    "    ax = plt.subplot(2, 10, i + 1 + n)\n",
    "    recon_image = test_recon_x.data[i].reshape(28, 28)\n",
    "    plt.imshow(recon_image.cpu(), cmap='gray')"
   ]
  },
  {
   "cell_type": "code",
   "execution_count": 25,
   "metadata": {
    "colab": {
     "base_uri": "https://localhost:8080/",
     "height": 195
    },
    "id": "oMSYbc-nYZpE",
    "outputId": "6ef9ba61-e866-4aa3-d51c-677f7abd825c"
   },
   "outputs": [
    {
     "data": {
      "image/png": "[encoded data removed]",
      "text/plain": [
       "<Figure size 2000x400 with 10 Axes>"
      ]
     },
     "metadata": {},
     "output_type": "display_data"
    }
   ],
   "source": [
    "plt.figure(figsize=(20, 4))\n",
    "\n",
    "for i in range(10):\n",
    "    ax = plt.subplot(2, 10, i + 1)\n",
    "    with torch.no_grad():\n",
    "        sample_z = torch.randn(5).to(device)\n",
    "        input_z = sample_z\n",
    "        sample = model.decode(input_z).cpu()\n",
    "        plt.imshow(sample.reshape(28, 28), cmap='gray')"
   ]
  }
 ],
 "metadata": {
  "accelerator": "GPU",
  "colab": {
   "gpuType": "T4",
   "provenance": []
  },
  "kernelspec": {
   "display_name": "Python 3 (ipykernel)",
   "language": "python",
   "name": "python3"
  },
  "language_info": {
   "codemirror_mode": {
    "name": "ipython",
    "version": 3
   },
   "file_extension": ".py",
   "mimetype": "text/x-python",
   "name": "python",
   "nbconvert_exporter": "python",
   "pygments_lexer": "ipython3",
   "version": "3.10.13"
  }
 },
 "nbformat": 4,
 "nbformat_minor": 1
}
